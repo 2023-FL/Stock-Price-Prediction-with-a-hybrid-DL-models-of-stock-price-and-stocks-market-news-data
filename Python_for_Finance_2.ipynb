{
  "cells": [
    {
      "cell_type": "markdown",
      "metadata": {
        "id": "view-in-github",
        "colab_type": "text"
      },
      "source": [
        "<a href=\"https://colab.research.google.com/github/FrancisLeung/Stock-Price-Prediction-with-a-hybrid-DL-models-of-stock-price-and-economic-data/blob/main/Python_for_Finance_2.ipynb\" target=\"_parent\"><img src=\"https://colab.research.google.com/assets/colab-badge.svg\" alt=\"Open In Colab\"/></a>"
      ]
    },
    {
      "cell_type": "code",
      "source": [
        "!pip install mplfinance\n",
        "!pip install statsmodels --upgrade"
      ],
      "metadata": {
        "colab": {
          "base_uri": "https://localhost:8080/"
        },
        "id": "KjrZJENMTJDh",
        "outputId": "4893941c-0f05-4445-c36b-e4d12a7a68c2"
      },
      "execution_count": 1,
      "outputs": [
        {
          "output_type": "stream",
          "name": "stdout",
          "text": [
            "Requirement already satisfied: mplfinance in /usr/local/lib/python3.7/dist-packages (0.12.8b9)\n",
            "Requirement already satisfied: pandas in /usr/local/lib/python3.7/dist-packages (from mplfinance) (1.3.5)\n",
            "Requirement already satisfied: matplotlib in /usr/local/lib/python3.7/dist-packages (from mplfinance) (3.2.2)\n",
            "Requirement already satisfied: numpy>=1.11 in /usr/local/lib/python3.7/dist-packages (from matplotlib->mplfinance) (1.21.6)\n",
            "Requirement already satisfied: python-dateutil>=2.1 in /usr/local/lib/python3.7/dist-packages (from matplotlib->mplfinance) (2.8.2)\n",
            "Requirement already satisfied: pyparsing!=2.0.4,!=2.1.2,!=2.1.6,>=2.0.1 in /usr/local/lib/python3.7/dist-packages (from matplotlib->mplfinance) (3.0.8)\n",
            "Requirement already satisfied: cycler>=0.10 in /usr/local/lib/python3.7/dist-packages (from matplotlib->mplfinance) (0.11.0)\n",
            "Requirement already satisfied: kiwisolver>=1.0.1 in /usr/local/lib/python3.7/dist-packages (from matplotlib->mplfinance) (1.4.2)\n",
            "Requirement already satisfied: typing-extensions in /usr/local/lib/python3.7/dist-packages (from kiwisolver>=1.0.1->matplotlib->mplfinance) (4.1.1)\n",
            "Requirement already satisfied: six>=1.5 in /usr/local/lib/python3.7/dist-packages (from python-dateutil>=2.1->matplotlib->mplfinance) (1.15.0)\n",
            "Requirement already satisfied: pytz>=2017.3 in /usr/local/lib/python3.7/dist-packages (from pandas->mplfinance) (2022.1)\n",
            "Requirement already satisfied: statsmodels in /usr/local/lib/python3.7/dist-packages (0.13.2)\n",
            "Requirement already satisfied: pandas>=0.25 in /usr/local/lib/python3.7/dist-packages (from statsmodels) (1.3.5)\n",
            "Requirement already satisfied: patsy>=0.5.2 in /usr/local/lib/python3.7/dist-packages (from statsmodels) (0.5.2)\n",
            "Requirement already satisfied: scipy>=1.3 in /usr/local/lib/python3.7/dist-packages (from statsmodels) (1.4.1)\n",
            "Requirement already satisfied: packaging>=21.3 in /usr/local/lib/python3.7/dist-packages (from statsmodels) (21.3)\n",
            "Requirement already satisfied: numpy>=1.17 in /usr/local/lib/python3.7/dist-packages (from statsmodels) (1.21.6)\n",
            "Requirement already satisfied: pyparsing!=3.0.5,>=2.0.2 in /usr/local/lib/python3.7/dist-packages (from packaging>=21.3->statsmodels) (3.0.8)\n",
            "Requirement already satisfied: python-dateutil>=2.7.3 in /usr/local/lib/python3.7/dist-packages (from pandas>=0.25->statsmodels) (2.8.2)\n",
            "Requirement already satisfied: pytz>=2017.3 in /usr/local/lib/python3.7/dist-packages (from pandas>=0.25->statsmodels) (2022.1)\n",
            "Requirement already satisfied: six in /usr/local/lib/python3.7/dist-packages (from patsy>=0.5.2->statsmodels) (1.15.0)\n"
          ]
        }
      ]
    },
    {
      "cell_type": "code",
      "execution_count": 2,
      "metadata": {
        "id": "Fo_a4yA8S8EH"
      },
      "outputs": [],
      "source": [
        "# Provides ways to work with large multidimensional arrays\n",
        "import numpy as np \n",
        "# Allows for further data manipulation and analysis\n",
        "import pandas as pd\n",
        "from pandas_datareader import data as web # Reads stock data \n",
        "import matplotlib.pyplot as plt # Plotting\n",
        "import matplotlib.dates as mdates # Styling dates\n",
        "%matplotlib inline\n",
        "\n",
        "import datetime as dt # For defining dates\n",
        "import mplfinance as mpf # Matplotlib finance\n",
        "\n",
        "import time\n",
        "\n",
        "# Used to get data from a directory\n",
        "import os\n",
        "from os import listdir\n",
        "from os.path import isfile, join"
      ]
    },
    {
      "cell_type": "markdown",
      "metadata": {
        "id": "u3wohXD5S8EN"
      },
      "source": [
        "## Default Values"
      ]
    },
    {
      "cell_type": "code",
      "execution_count": 3,
      "metadata": {
        "id": "aGkSa8T6S8EP"
      },
      "outputs": [],
      "source": [
        "# Define path to files\n",
        "#path = \"/Users/francisleung/Downloads/Python4Finance-main/\"\n",
        "path = \"/content/sample_data/\"\n",
        "# Start date defaults\n",
        "S_YEAR = 2017\n",
        "S_MONTH = 1\n",
        "S_DAY = 3\n",
        "S_DATE_STR = f\"{S_YEAR}-{S_MONTH}-{S_DAY}\"\n",
        "S_DATE_DATETIME = dt.datetime(S_YEAR, S_MONTH, S_DAY)\n",
        "\n",
        "# End date defaults\n",
        "E_YEAR = 2021\n",
        "E_MONTH = 8\n",
        "E_DAY = 19\n",
        "E_DATE_STR = f\"{E_YEAR}-{E_MONTH}-{E_DAY}\"\n",
        "E_DATE_DATETIME = dt.datetime(E_YEAR, E_MONTH, E_DAY)"
      ]
    },
    {
      "cell_type": "markdown",
      "metadata": {
        "id": "ElZ9eCzkS8ER"
      },
      "source": [
        "## Get Stock File Names in a List"
      ]
    },
    {
      "cell_type": "code",
      "execution_count": 4,
      "metadata": {
        "colab": {
          "base_uri": "https://localhost:8080/"
        },
        "id": "3WtxBTBcS8ES",
        "outputId": "b2684683-20c7-42a3-8391-7a13faaa66cd"
      },
      "outputs": [
        {
          "output_type": "execute_result",
          "data": {
            "text/plain": [
              "['README',\n",
              " 'anscombe',\n",
              " 'mnist_train_small',\n",
              " 'california_housing_train',\n",
              " 'california_housing_test',\n",
              " 'mnist_test']"
            ]
          },
          "metadata": {},
          "execution_count": 4
        }
      ],
      "source": [
        "# listdir returns all files in the directory and isfile will return true\n",
        "# if it is a file and then we store its name in our list named files\n",
        "files = [x for x in listdir(path) if isfile(join(path, x))]\n",
        "\n",
        "# Remove extension from file names\n",
        "# Splitext splits the file name into 2 parts being the name and extension\n",
        "# We say get all file names and then store just the name in our list named files\n",
        "tickers = [os.path.splitext(x)[0] for x in files]\n",
        "tickers"
      ]
    },
    {
      "cell_type": "markdown",
      "metadata": {
        "id": "PCjqTbrlS8EU"
      },
      "source": [
        "## Create a Dataframe from our List"
      ]
    },
    {
      "cell_type": "code",
      "execution_count": 5,
      "metadata": {
        "colab": {
          "base_uri": "https://localhost:8080/",
          "height": 238
        },
        "id": "wdlVdcftS8EV",
        "outputId": "2583f483-71b7-4ad7-f5ac-fee10d9ccc47"
      },
      "outputs": [
        {
          "output_type": "execute_result",
          "data": {
            "text/plain": [
              "                     Ticker\n",
              "0                    README\n",
              "1                  anscombe\n",
              "2         mnist_train_small\n",
              "3  california_housing_train\n",
              "4   california_housing_test\n",
              "5                mnist_test"
            ],
            "text/html": [
              "\n",
              "  <div id=\"df-5f45180b-1cb6-4bd3-bcf5-2be818d76050\">\n",
              "    <div class=\"colab-df-container\">\n",
              "      <div>\n",
              "<style scoped>\n",
              "    .dataframe tbody tr th:only-of-type {\n",
              "        vertical-align: middle;\n",
              "    }\n",
              "\n",
              "    .dataframe tbody tr th {\n",
              "        vertical-align: top;\n",
              "    }\n",
              "\n",
              "    .dataframe thead th {\n",
              "        text-align: right;\n",
              "    }\n",
              "</style>\n",
              "<table border=\"1\" class=\"dataframe\">\n",
              "  <thead>\n",
              "    <tr style=\"text-align: right;\">\n",
              "      <th></th>\n",
              "      <th>Ticker</th>\n",
              "    </tr>\n",
              "  </thead>\n",
              "  <tbody>\n",
              "    <tr>\n",
              "      <th>0</th>\n",
              "      <td>README</td>\n",
              "    </tr>\n",
              "    <tr>\n",
              "      <th>1</th>\n",
              "      <td>anscombe</td>\n",
              "    </tr>\n",
              "    <tr>\n",
              "      <th>2</th>\n",
              "      <td>mnist_train_small</td>\n",
              "    </tr>\n",
              "    <tr>\n",
              "      <th>3</th>\n",
              "      <td>california_housing_train</td>\n",
              "    </tr>\n",
              "    <tr>\n",
              "      <th>4</th>\n",
              "      <td>california_housing_test</td>\n",
              "    </tr>\n",
              "    <tr>\n",
              "      <th>5</th>\n",
              "      <td>mnist_test</td>\n",
              "    </tr>\n",
              "  </tbody>\n",
              "</table>\n",
              "</div>\n",
              "      <button class=\"colab-df-convert\" onclick=\"convertToInteractive('df-5f45180b-1cb6-4bd3-bcf5-2be818d76050')\"\n",
              "              title=\"Convert this dataframe to an interactive table.\"\n",
              "              style=\"display:none;\">\n",
              "        \n",
              "  <svg xmlns=\"http://www.w3.org/2000/svg\" height=\"24px\"viewBox=\"0 0 24 24\"\n",
              "       width=\"24px\">\n",
              "    <path d=\"M0 0h24v24H0V0z\" fill=\"none\"/>\n",
              "    <path d=\"M18.56 5.44l.94 2.06.94-2.06 2.06-.94-2.06-.94-.94-2.06-.94 2.06-2.06.94zm-11 1L8.5 8.5l.94-2.06 2.06-.94-2.06-.94L8.5 2.5l-.94 2.06-2.06.94zm10 10l.94 2.06.94-2.06 2.06-.94-2.06-.94-.94-2.06-.94 2.06-2.06.94z\"/><path d=\"M17.41 7.96l-1.37-1.37c-.4-.4-.92-.59-1.43-.59-.52 0-1.04.2-1.43.59L10.3 9.45l-7.72 7.72c-.78.78-.78 2.05 0 2.83L4 21.41c.39.39.9.59 1.41.59.51 0 1.02-.2 1.41-.59l7.78-7.78 2.81-2.81c.8-.78.8-2.07 0-2.86zM5.41 20L4 18.59l7.72-7.72 1.47 1.35L5.41 20z\"/>\n",
              "  </svg>\n",
              "      </button>\n",
              "      \n",
              "  <style>\n",
              "    .colab-df-container {\n",
              "      display:flex;\n",
              "      flex-wrap:wrap;\n",
              "      gap: 12px;\n",
              "    }\n",
              "\n",
              "    .colab-df-convert {\n",
              "      background-color: #E8F0FE;\n",
              "      border: none;\n",
              "      border-radius: 50%;\n",
              "      cursor: pointer;\n",
              "      display: none;\n",
              "      fill: #1967D2;\n",
              "      height: 32px;\n",
              "      padding: 0 0 0 0;\n",
              "      width: 32px;\n",
              "    }\n",
              "\n",
              "    .colab-df-convert:hover {\n",
              "      background-color: #E2EBFA;\n",
              "      box-shadow: 0px 1px 2px rgba(60, 64, 67, 0.3), 0px 1px 3px 1px rgba(60, 64, 67, 0.15);\n",
              "      fill: #174EA6;\n",
              "    }\n",
              "\n",
              "    [theme=dark] .colab-df-convert {\n",
              "      background-color: #3B4455;\n",
              "      fill: #D2E3FC;\n",
              "    }\n",
              "\n",
              "    [theme=dark] .colab-df-convert:hover {\n",
              "      background-color: #434B5C;\n",
              "      box-shadow: 0px 1px 3px 1px rgba(0, 0, 0, 0.15);\n",
              "      filter: drop-shadow(0px 1px 2px rgba(0, 0, 0, 0.3));\n",
              "      fill: #FFFFFF;\n",
              "    }\n",
              "  </style>\n",
              "\n",
              "      <script>\n",
              "        const buttonEl =\n",
              "          document.querySelector('#df-5f45180b-1cb6-4bd3-bcf5-2be818d76050 button.colab-df-convert');\n",
              "        buttonEl.style.display =\n",
              "          google.colab.kernel.accessAllowed ? 'block' : 'none';\n",
              "\n",
              "        async function convertToInteractive(key) {\n",
              "          const element = document.querySelector('#df-5f45180b-1cb6-4bd3-bcf5-2be818d76050');\n",
              "          const dataTable =\n",
              "            await google.colab.kernel.invokeFunction('convertToInteractive',\n",
              "                                                     [key], {});\n",
              "          if (!dataTable) return;\n",
              "\n",
              "          const docLinkHtml = 'Like what you see? Visit the ' +\n",
              "            '<a target=\"_blank\" href=https://colab.research.google.com/notebooks/data_table.ipynb>data table notebook</a>'\n",
              "            + ' to learn more about interactive tables.';\n",
              "          element.innerHTML = '';\n",
              "          dataTable['output_type'] = 'display_data';\n",
              "          await google.colab.output.renderOutput(dataTable, element);\n",
              "          const docLink = document.createElement('div');\n",
              "          docLink.innerHTML = docLinkHtml;\n",
              "          element.appendChild(docLink);\n",
              "        }\n",
              "      </script>\n",
              "    </div>\n",
              "  </div>\n",
              "  "
            ]
          },
          "metadata": {},
          "execution_count": 5
        }
      ],
      "source": [
        "stock_df = pd.DataFrame(tickers,columns=['Ticker'])\n",
        "stock_df"
      ]
    },
    {
      "cell_type": "markdown",
      "metadata": {
        "id": "NJsESTDcS8EW"
      },
      "source": [
        "## Function that Returns a Dataframe from a CSV"
      ]
    },
    {
      "cell_type": "code",
      "execution_count": 6,
      "metadata": {
        "id": "DIEBHRdQS8EX"
      },
      "outputs": [],
      "source": [
        "# Reads a dataframe from the CSV file, changes index to date and returns it\n",
        "def get_df_from_csv(ticker):\n",
        "    \n",
        "    # Try to get the file and if it doesn't exist issue a warning\n",
        "    try:\n",
        "        df = pd.read_csv(path + ticker + '.csv')\n",
        "    except FileNotFoundError:\n",
        "        print(\"File Doesn't Exist\")\n",
        "    else:\n",
        "        return df"
      ]
    },
    {
      "cell_type": "markdown",
      "metadata": {
        "id": "udsTqXxhS8EY"
      },
      "source": [
        "## Function that Saves Dataframe to CSV"
      ]
    },
    {
      "cell_type": "code",
      "execution_count": 7,
      "metadata": {
        "id": "ajk74oBJS8Ea"
      },
      "outputs": [],
      "source": [
        "def save_dataframe_to_csv(df, ticker):\n",
        "    df.to_csv(path + ticker + '.csv')"
      ]
    },
    {
      "cell_type": "markdown",
      "metadata": {
        "id": "ijjimBdzS8Ea"
      },
      "source": [
        "## Delete Unnamed Columns in CSV Files"
      ]
    },
    {
      "cell_type": "code",
      "execution_count": 8,
      "metadata": {
        "id": "FQGRYmoYS8Eb"
      },
      "outputs": [],
      "source": [
        "def delete_unnamed_cols(df):\n",
        "    df = df.loc[:, ~df.columns.str.contains('^Unnamed')]\n",
        "    return df"
      ]
    },
    {
      "cell_type": "markdown",
      "metadata": {
        "id": "QM06wycKS8Eb"
      },
      "source": [
        "## Add Daily Return to Dataframe"
      ]
    },
    {
      "cell_type": "code",
      "execution_count": 9,
      "metadata": {
        "id": "Ai4tRAAtS8Ec"
      },
      "outputs": [],
      "source": [
        "# We calculate a percentage rate of return for each day to compare investments.\n",
        "# Simple Rate of Return = (End Price - Beginning Price) / Beginning Price OR (EP / BP) - 1\n",
        "\n",
        "# Shift provides the value from the previous day\n",
        "# NaN is displayed because there was no previous day price for the 1st calculation\n",
        "def add_daily_return_to_df(df, ticker):\n",
        "    df['daily_return'] = (df['Adj Close'] / df['Adj Close'].shift(1)) - 1\n",
        "    # Save data to a CSV file\n",
        "    df.to_csv(path + ticker + '.csv')\n",
        "    return df  "
      ]
    },
    {
      "cell_type": "markdown",
      "metadata": {
        "id": "M24nOYT2S8Ec"
      },
      "source": [
        "## Returns Return on Investment over Time"
      ]
    },
    {
      "cell_type": "code",
      "execution_count": 10,
      "metadata": {
        "id": "sFEhQPaSS8Ed"
      },
      "outputs": [],
      "source": [
        "# Return on Investment is the return you received from your investment\n",
        "# This amount does not include your initial investment\n",
        "# If you invest 100 and have 200 after 5 years\n",
        "# ROI = End Value (200) - Initial Value (100) / Inital Value = 1\n",
        "# Your new total is Inital Investment + 1 * Inital Investment = 200\n",
        "\n",
        "def get_roi_defined_time(df):\n",
        "    # Set as a datetime\n",
        "    df['Date'] = pd.to_datetime(df['Date'])\n",
        "    start_val = df[df['Date'] == S_DATE_STR]['Adj Close'][0]\n",
        "    print(\"Initial Price :\", start_val)\n",
        "    \n",
        "    # ----- I CHANGED THIS AFTER THE VIDEO -----\n",
        "    \n",
        "    end_val = df[df['Date'] == E_DATE_STR]['Adj Close']\n",
        "    print(end_val.item())\n",
        "    print(\"Final Price :\", end_val.item())\n",
        "    \n",
        "    # ----- END OF VIDEO CHANGES -----\n",
        "    \n",
        "    # Calculate return on investment\n",
        "    roi = (end_val - start_val) / start_val\n",
        "\n",
        "    # Return the total return between 2 dates\n",
        "    return roi"
      ]
    },
    {
      "cell_type": "markdown",
      "metadata": {
        "id": "9tM03NbpS8Ee"
      },
      "source": [
        "## Get Coefficient of Variation"
      ]
    },
    {
      "cell_type": "code",
      "execution_count": 11,
      "metadata": {
        "id": "fRIT5-PdS8Ee"
      },
      "outputs": [],
      "source": [
        "# Receives the dataframe with the Adj Close data and returns the coefficient of variation\n",
        "def get_cov(stock_df):\n",
        "    mean = stock_df['Adj Close'].mean()\n",
        "    sd = stock_df['Adj Close'].std()\n",
        "    cov = sd / mean\n",
        "    return cov"
      ]
    },
    {
      "cell_type": "markdown",
      "metadata": {
        "id": "6il0A-VSS8Ef"
      },
      "source": [
        "## Test Functions"
      ]
    },
    {
      "cell_type": "code",
      "execution_count": 13,
      "metadata": {
        "colab": {
          "base_uri": "https://localhost:8080/",
          "height": 374
        },
        "id": "BUDM0NM0S8Ef",
        "outputId": "54dd8535-2ee1-4f8f-f9d6-228bf82d45e2"
      },
      "outputs": [
        {
          "output_type": "stream",
          "name": "stdout",
          "text": [
            "File Doesn't Exist\n"
          ]
        },
        {
          "output_type": "error",
          "ename": "TypeError",
          "evalue": "ignored",
          "traceback": [
            "\u001b[0;31m---------------------------------------------------------------------------\u001b[0m",
            "\u001b[0;31mTypeError\u001b[0m                                 Traceback (most recent call last)",
            "\u001b[0;32m<ipython-input-13-e0095d7ec683>\u001b[0m in \u001b[0;36m<module>\u001b[0;34m()\u001b[0m\n\u001b[1;32m      9\u001b[0m \u001b[0;34m\u001b[0m\u001b[0m\n\u001b[1;32m     10\u001b[0m \u001b[0;31m# Add daily return to this dataframe\u001b[0m\u001b[0;34m\u001b[0m\u001b[0;34m\u001b[0m\u001b[0;34m\u001b[0m\u001b[0m\n\u001b[0;32m---> 11\u001b[0;31m \u001b[0madd_daily_return_to_df\u001b[0m\u001b[0;34m(\u001b[0m\u001b[0mstock_a\u001b[0m\u001b[0;34m,\u001b[0m \u001b[0mtickers\u001b[0m\u001b[0;34m[\u001b[0m\u001b[0;36m0\u001b[0m\u001b[0;34m]\u001b[0m\u001b[0;34m)\u001b[0m\u001b[0;34m\u001b[0m\u001b[0;34m\u001b[0m\u001b[0m\n\u001b[0m\u001b[1;32m     12\u001b[0m \u001b[0mstock_a\u001b[0m\u001b[0;34m\u001b[0m\u001b[0;34m\u001b[0m\u001b[0m\n\u001b[1;32m     13\u001b[0m \u001b[0;34m\u001b[0m\u001b[0m\n",
            "\u001b[0;32m<ipython-input-9-4214896a0115>\u001b[0m in \u001b[0;36madd_daily_return_to_df\u001b[0;34m(df, ticker)\u001b[0m\n\u001b[1;32m      5\u001b[0m \u001b[0;31m# NaN is displayed because there was no previous day price for the 1st calculation\u001b[0m\u001b[0;34m\u001b[0m\u001b[0;34m\u001b[0m\u001b[0;34m\u001b[0m\u001b[0m\n\u001b[1;32m      6\u001b[0m \u001b[0;32mdef\u001b[0m \u001b[0madd_daily_return_to_df\u001b[0m\u001b[0;34m(\u001b[0m\u001b[0mdf\u001b[0m\u001b[0;34m,\u001b[0m \u001b[0mticker\u001b[0m\u001b[0;34m)\u001b[0m\u001b[0;34m:\u001b[0m\u001b[0;34m\u001b[0m\u001b[0;34m\u001b[0m\u001b[0m\n\u001b[0;32m----> 7\u001b[0;31m     \u001b[0mdf\u001b[0m\u001b[0;34m[\u001b[0m\u001b[0;34m'daily_return'\u001b[0m\u001b[0;34m]\u001b[0m \u001b[0;34m=\u001b[0m \u001b[0;34m(\u001b[0m\u001b[0mdf\u001b[0m\u001b[0;34m[\u001b[0m\u001b[0;34m'Adj Close'\u001b[0m\u001b[0;34m]\u001b[0m \u001b[0;34m/\u001b[0m \u001b[0mdf\u001b[0m\u001b[0;34m[\u001b[0m\u001b[0;34m'Adj Close'\u001b[0m\u001b[0;34m]\u001b[0m\u001b[0;34m.\u001b[0m\u001b[0mshift\u001b[0m\u001b[0;34m(\u001b[0m\u001b[0;36m1\u001b[0m\u001b[0;34m)\u001b[0m\u001b[0;34m)\u001b[0m \u001b[0;34m-\u001b[0m \u001b[0;36m1\u001b[0m\u001b[0;34m\u001b[0m\u001b[0;34m\u001b[0m\u001b[0m\n\u001b[0m\u001b[1;32m      8\u001b[0m     \u001b[0;31m# Save data to a CSV file\u001b[0m\u001b[0;34m\u001b[0m\u001b[0;34m\u001b[0m\u001b[0;34m\u001b[0m\u001b[0m\n\u001b[1;32m      9\u001b[0m     \u001b[0mdf\u001b[0m\u001b[0;34m.\u001b[0m\u001b[0mto_csv\u001b[0m\u001b[0;34m(\u001b[0m\u001b[0mpath\u001b[0m \u001b[0;34m+\u001b[0m \u001b[0mticker\u001b[0m \u001b[0;34m+\u001b[0m \u001b[0;34m'.csv'\u001b[0m\u001b[0;34m)\u001b[0m\u001b[0;34m\u001b[0m\u001b[0;34m\u001b[0m\u001b[0m\n",
            "\u001b[0;31mTypeError\u001b[0m: 'NoneType' object is not subscriptable"
          ]
        }
      ],
      "source": [
        "# Create a backup for all original stock data\n",
        "\n",
        "# Get our 1st ticker\n",
        "tickers = [0]\n",
        "\n",
        "# Get a dataframe for that ticker\n",
        "stock_a = get_df_from_csv(str(tickers[0]))\n",
        "stock_a\n",
        "\n",
        "# Add daily return to this dataframe\n",
        "add_daily_return_to_df(stock_a, tickers[0])\n",
        "stock_a\n",
        "\n",
        "# Delete unnamed columns in dataframe\n",
        "stock_a = delete_unnamed_cols(stock_a)\n",
        "stock_a\n",
        "\n",
        "# Save cleaned dataframe to csv\n",
        "save_dataframe_to_csv(stock_a, tickers[0])"
      ]
    },
    {
      "cell_type": "markdown",
      "metadata": {
        "id": "_hMVJS3ZS8Eg"
      },
      "source": [
        "## Add Daily Returns & Clean Up All Files"
      ]
    },
    {
      "cell_type": "code",
      "execution_count": 15,
      "metadata": {
        "id": "GEh4PnZCS8Eg",
        "colab": {
          "base_uri": "https://localhost:8080/",
          "height": 374
        },
        "outputId": "c47d0f3e-a06b-4656-ab57-b525c95ea191"
      },
      "outputs": [
        {
          "output_type": "stream",
          "name": "stdout",
          "text": [
            "Working on : 0\n"
          ]
        },
        {
          "output_type": "error",
          "ename": "TypeError",
          "evalue": "ignored",
          "traceback": [
            "\u001b[0;31m---------------------------------------------------------------------------\u001b[0m",
            "\u001b[0;31mTypeError\u001b[0m                                 Traceback (most recent call last)",
            "\u001b[0;32m<ipython-input-15-f4827104a046>\u001b[0m in \u001b[0;36m<module>\u001b[0;34m()\u001b[0m\n\u001b[1;32m      6\u001b[0m \u001b[0;34m\u001b[0m\u001b[0m\n\u001b[1;32m      7\u001b[0m     \u001b[0;31m# Get a dataframe for that ticker\u001b[0m\u001b[0;34m\u001b[0m\u001b[0;34m\u001b[0m\u001b[0;34m\u001b[0m\u001b[0m\n\u001b[0;32m----> 8\u001b[0;31m     \u001b[0mstock_df\u001b[0m \u001b[0;34m=\u001b[0m \u001b[0mget_df_from_csv\u001b[0m\u001b[0;34m(\u001b[0m\u001b[0mticker\u001b[0m\u001b[0;34m)\u001b[0m\u001b[0;34m\u001b[0m\u001b[0;34m\u001b[0m\u001b[0m\n\u001b[0m\u001b[1;32m      9\u001b[0m \u001b[0;34m\u001b[0m\u001b[0m\n\u001b[1;32m     10\u001b[0m     \u001b[0;31m# Add daily return to this dataframe\u001b[0m\u001b[0;34m\u001b[0m\u001b[0;34m\u001b[0m\u001b[0;34m\u001b[0m\u001b[0m\n",
            "\u001b[0;32m<ipython-input-6-1b8ceb2d974a>\u001b[0m in \u001b[0;36mget_df_from_csv\u001b[0;34m(ticker)\u001b[0m\n\u001b[1;32m      4\u001b[0m     \u001b[0;31m# Try to get the file and if it doesn't exist issue a warning\u001b[0m\u001b[0;34m\u001b[0m\u001b[0;34m\u001b[0m\u001b[0;34m\u001b[0m\u001b[0m\n\u001b[1;32m      5\u001b[0m     \u001b[0;32mtry\u001b[0m\u001b[0;34m:\u001b[0m\u001b[0;34m\u001b[0m\u001b[0;34m\u001b[0m\u001b[0m\n\u001b[0;32m----> 6\u001b[0;31m         \u001b[0mdf\u001b[0m \u001b[0;34m=\u001b[0m \u001b[0mpd\u001b[0m\u001b[0;34m.\u001b[0m\u001b[0mread_csv\u001b[0m\u001b[0;34m(\u001b[0m\u001b[0mpath\u001b[0m \u001b[0;34m+\u001b[0m \u001b[0mticker\u001b[0m \u001b[0;34m+\u001b[0m \u001b[0;34m'.csv'\u001b[0m\u001b[0;34m)\u001b[0m\u001b[0;34m\u001b[0m\u001b[0;34m\u001b[0m\u001b[0m\n\u001b[0m\u001b[1;32m      7\u001b[0m     \u001b[0;32mexcept\u001b[0m \u001b[0mFileNotFoundError\u001b[0m\u001b[0;34m:\u001b[0m\u001b[0;34m\u001b[0m\u001b[0;34m\u001b[0m\u001b[0m\n\u001b[1;32m      8\u001b[0m         \u001b[0mprint\u001b[0m\u001b[0;34m(\u001b[0m\u001b[0;34m\"File Doesn't Exist\"\u001b[0m\u001b[0;34m)\u001b[0m\u001b[0;34m\u001b[0m\u001b[0;34m\u001b[0m\u001b[0m\n",
            "\u001b[0;31mTypeError\u001b[0m: can only concatenate str (not \"int\") to str"
          ]
        }
      ],
      "source": [
        "# Create a backup for all original stock data\n",
        "\n",
        "# Cycle through all tickers\n",
        "for ticker in tickers:\n",
        "    print(\"Working on :\", ticker)\n",
        "    \n",
        "    # Get a dataframe for that ticker\n",
        "    stock_df = get_df_from_csv(ticker)\n",
        "    \n",
        "    # Add daily return to this dataframe\n",
        "    add_daily_return_to_df(stock_df, ticker)\n",
        "    \n",
        "    # Delete unnamed columns in dataframe\n",
        "    stock_df = delete_unnamed_cols(stock_df)\n",
        "    \n",
        "    # Save cleaned dataframe to csv\n",
        "    save_dataframe_to_csv(stock_df, ticker)"
      ]
    },
    {
      "cell_type": "markdown",
      "metadata": {
        "id": "ia1jTvp7S8Eh"
      },
      "source": [
        "## Get Stock Return over Time Period & Coefficient of Variation"
      ]
    },
    {
      "cell_type": "code",
      "execution_count": 14,
      "metadata": {
        "id": "i89OITJYS8Eh",
        "colab": {
          "base_uri": "https://localhost:8080/",
          "height": 357
        },
        "outputId": "6ee0600b-e07a-43e0-c713-5786481a12aa"
      },
      "outputs": [
        {
          "output_type": "error",
          "ename": "TypeError",
          "evalue": "ignored",
          "traceback": [
            "\u001b[0;31m---------------------------------------------------------------------------\u001b[0m",
            "\u001b[0;31mTypeError\u001b[0m                                 Traceback (most recent call last)",
            "\u001b[0;32m<ipython-input-14-5afe489cca63>\u001b[0m in \u001b[0;36m<module>\u001b[0;34m()\u001b[0m\n\u001b[1;32m      3\u001b[0m \u001b[0;31m# Get total return since 2017\u001b[0m\u001b[0;34m\u001b[0m\u001b[0;34m\u001b[0m\u001b[0;34m\u001b[0m\u001b[0m\n\u001b[1;32m      4\u001b[0m \u001b[0;31m# Final Price 167.67 = (44.77 * 2.745) + 44.77\u001b[0m\u001b[0;34m\u001b[0m\u001b[0;34m\u001b[0m\u001b[0;34m\u001b[0m\u001b[0m\n\u001b[0;32m----> 5\u001b[0;31m \u001b[0mget_roi_defined_time\u001b[0m\u001b[0;34m(\u001b[0m\u001b[0mstock_a\u001b[0m\u001b[0;34m)\u001b[0m\u001b[0;34m\u001b[0m\u001b[0;34m\u001b[0m\u001b[0m\n\u001b[0m\u001b[1;32m      6\u001b[0m \u001b[0;34m\u001b[0m\u001b[0m\n\u001b[1;32m      7\u001b[0m \u001b[0;31m# Get coefficient of variation\u001b[0m\u001b[0;34m\u001b[0m\u001b[0;34m\u001b[0m\u001b[0;34m\u001b[0m\u001b[0m\n",
            "\u001b[0;32m<ipython-input-10-23a6f7e5e58a>\u001b[0m in \u001b[0;36mget_roi_defined_time\u001b[0;34m(df)\u001b[0m\n\u001b[1;32m      7\u001b[0m \u001b[0;32mdef\u001b[0m \u001b[0mget_roi_defined_time\u001b[0m\u001b[0;34m(\u001b[0m\u001b[0mdf\u001b[0m\u001b[0;34m)\u001b[0m\u001b[0;34m:\u001b[0m\u001b[0;34m\u001b[0m\u001b[0;34m\u001b[0m\u001b[0m\n\u001b[1;32m      8\u001b[0m     \u001b[0;31m# Set as a datetime\u001b[0m\u001b[0;34m\u001b[0m\u001b[0;34m\u001b[0m\u001b[0;34m\u001b[0m\u001b[0m\n\u001b[0;32m----> 9\u001b[0;31m     \u001b[0mdf\u001b[0m\u001b[0;34m[\u001b[0m\u001b[0;34m'Date'\u001b[0m\u001b[0;34m]\u001b[0m \u001b[0;34m=\u001b[0m \u001b[0mpd\u001b[0m\u001b[0;34m.\u001b[0m\u001b[0mto_datetime\u001b[0m\u001b[0;34m(\u001b[0m\u001b[0mdf\u001b[0m\u001b[0;34m[\u001b[0m\u001b[0;34m'Date'\u001b[0m\u001b[0;34m]\u001b[0m\u001b[0;34m)\u001b[0m\u001b[0;34m\u001b[0m\u001b[0;34m\u001b[0m\u001b[0m\n\u001b[0m\u001b[1;32m     10\u001b[0m     \u001b[0mstart_val\u001b[0m \u001b[0;34m=\u001b[0m \u001b[0mdf\u001b[0m\u001b[0;34m[\u001b[0m\u001b[0mdf\u001b[0m\u001b[0;34m[\u001b[0m\u001b[0;34m'Date'\u001b[0m\u001b[0;34m]\u001b[0m \u001b[0;34m==\u001b[0m \u001b[0mS_DATE_STR\u001b[0m\u001b[0;34m]\u001b[0m\u001b[0;34m[\u001b[0m\u001b[0;34m'Adj Close'\u001b[0m\u001b[0;34m]\u001b[0m\u001b[0;34m[\u001b[0m\u001b[0;36m0\u001b[0m\u001b[0;34m]\u001b[0m\u001b[0;34m\u001b[0m\u001b[0;34m\u001b[0m\u001b[0m\n\u001b[1;32m     11\u001b[0m     \u001b[0mprint\u001b[0m\u001b[0;34m(\u001b[0m\u001b[0;34m\"Initial Price :\"\u001b[0m\u001b[0;34m,\u001b[0m \u001b[0mstart_val\u001b[0m\u001b[0;34m)\u001b[0m\u001b[0;34m\u001b[0m\u001b[0;34m\u001b[0m\u001b[0m\n",
            "\u001b[0;31mTypeError\u001b[0m: 'NoneType' object is not subscriptable"
          ]
        }
      ],
      "source": [
        "stock_a\n",
        "\n",
        "# Get total return since 2017\n",
        "# Final Price 167.67 = (44.77 * 2.745) + 44.77\n",
        "get_roi_defined_time(stock_a)\n",
        "\n",
        "# Get coefficient of variation \n",
        "# This is higher than normal because I'm using many years instead of one\n",
        "# get_cov(stock_a)"
      ]
    },
    {
      "cell_type": "code",
      "execution_count": null,
      "metadata": {
        "id": "vYqZAQn6S8Eh"
      },
      "outputs": [],
      "source": [
        ""
      ]
    }
  ],
  "metadata": {
    "kernelspec": {
      "display_name": "Python 3",
      "language": "python",
      "name": "python3"
    },
    "language_info": {
      "codemirror_mode": {
        "name": "ipython",
        "version": 3
      },
      "file_extension": ".py",
      "mimetype": "text/x-python",
      "name": "python",
      "nbconvert_exporter": "python",
      "pygments_lexer": "ipython3",
      "version": "3.8.3"
    },
    "colab": {
      "name": "Python for Finance 2.ipynb",
      "provenance": [],
      "collapsed_sections": [],
      "include_colab_link": true
    }
  },
  "nbformat": 4,
  "nbformat_minor": 0
}
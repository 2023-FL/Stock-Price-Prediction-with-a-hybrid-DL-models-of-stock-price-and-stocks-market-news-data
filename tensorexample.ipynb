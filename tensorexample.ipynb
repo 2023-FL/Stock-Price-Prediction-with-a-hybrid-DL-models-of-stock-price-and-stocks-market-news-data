{
  "cells": [
    {
      "cell_type": "markdown",
      "metadata": {
        "id": "view-in-github",
        "colab_type": "text"
      },
      "source": [
        "<a href=\"https://colab.research.google.com/github/FrancisLeung/Stock-Price-Prediction-with-a-hybrid-DL-models-of-stock-price-and-stocks-market-news-data/blob/main/tensorexample.ipynb\" target=\"_parent\"><img src=\"https://colab.research.google.com/assets/colab-badge.svg\" alt=\"Open In Colab\"/></a>"
      ]
    },
    {
      "cell_type": "code",
      "execution_count": 2,
      "metadata": {
        "id": "XVnDU5qcX7N7"
      },
      "outputs": [],
      "source": [
        "import tensorflow as tf\n",
        "import numpy as np\n",
        "#tf.InteractiveSession()\n",
        "import tensorflow.compat.v1 as tfc\n",
        "sess = tfc.InteractiveSession()"
      ]
    },
    {
      "cell_type": "code",
      "execution_count": 4,
      "metadata": {
        "colab": {
          "base_uri": "https://localhost:8080/",
          "height": 329
        },
        "id": "rlKf8yFCX7OB",
        "outputId": "269c53a0-0b22-4102-bcc5-c9a4ac80c354"
      },
      "outputs": [
        {
          "output_type": "error",
          "ename": "BadZipFile",
          "evalue": "ignored",
          "traceback": [
            "\u001b[0;31m---------------------------------------------------------------------------\u001b[0m",
            "\u001b[0;31mBadZipFile\u001b[0m                                Traceback (most recent call last)",
            "\u001b[0;32m<ipython-input-4-d817c3535ebc>\u001b[0m in \u001b[0;36m<module>\u001b[0;34m()\u001b[0m\n\u001b[0;32m----> 1\u001b[0;31m \u001b[0mvalid_history\u001b[0m \u001b[0;34m=\u001b[0m \u001b[0mnp\u001b[0m\u001b[0;34m.\u001b[0m\u001b[0mload\u001b[0m\u001b[0;34m(\u001b[0m\u001b[0;34m'history_predict.npz'\u001b[0m\u001b[0;34m)\u001b[0m\u001b[0;34m[\u001b[0m\u001b[0;34m'valid_final_result'\u001b[0m\u001b[0;34m]\u001b[0m\u001b[0;34m\u001b[0m\u001b[0;34m\u001b[0m\u001b[0m\n\u001b[0m\u001b[1;32m      2\u001b[0m \u001b[0mtest_history\u001b[0m \u001b[0;34m=\u001b[0m \u001b[0mnp\u001b[0m\u001b[0;34m.\u001b[0m\u001b[0mload\u001b[0m\u001b[0;34m(\u001b[0m\u001b[0;34m'history_predict.npz'\u001b[0m\u001b[0;34m)\u001b[0m\u001b[0;34m[\u001b[0m\u001b[0;34m'test_final_result'\u001b[0m\u001b[0;34m]\u001b[0m\u001b[0;34m\u001b[0m\u001b[0;34m\u001b[0m\u001b[0m\n",
            "\u001b[0;32m/usr/local/lib/python3.7/dist-packages/numpy/lib/npyio.py\u001b[0m in \u001b[0;36mload\u001b[0;34m(file, mmap_mode, allow_pickle, fix_imports, encoding)\u001b[0m\n\u001b[1;32m    431\u001b[0m             \u001b[0mstack\u001b[0m\u001b[0;34m.\u001b[0m\u001b[0mpop_all\u001b[0m\u001b[0;34m(\u001b[0m\u001b[0;34m)\u001b[0m\u001b[0;34m\u001b[0m\u001b[0;34m\u001b[0m\u001b[0m\n\u001b[1;32m    432\u001b[0m             ret = NpzFile(fid, own_fid=own_fid, allow_pickle=allow_pickle,\n\u001b[0;32m--> 433\u001b[0;31m                           pickle_kwargs=pickle_kwargs)\n\u001b[0m\u001b[1;32m    434\u001b[0m             \u001b[0;32mreturn\u001b[0m \u001b[0mret\u001b[0m\u001b[0;34m\u001b[0m\u001b[0;34m\u001b[0m\u001b[0m\n\u001b[1;32m    435\u001b[0m         \u001b[0;32melif\u001b[0m \u001b[0mmagic\u001b[0m \u001b[0;34m==\u001b[0m \u001b[0mformat\u001b[0m\u001b[0;34m.\u001b[0m\u001b[0mMAGIC_PREFIX\u001b[0m\u001b[0;34m:\u001b[0m\u001b[0;34m\u001b[0m\u001b[0;34m\u001b[0m\u001b[0m\n",
            "\u001b[0;32m/usr/local/lib/python3.7/dist-packages/numpy/lib/npyio.py\u001b[0m in \u001b[0;36m__init__\u001b[0;34m(self, fid, own_fid, allow_pickle, pickle_kwargs)\u001b[0m\n\u001b[1;32m    187\u001b[0m         \u001b[0;31m# Import is postponed to here since zipfile depends on gzip, an\u001b[0m\u001b[0;34m\u001b[0m\u001b[0;34m\u001b[0m\u001b[0;34m\u001b[0m\u001b[0m\n\u001b[1;32m    188\u001b[0m         \u001b[0;31m# optional component of the so-called standard library.\u001b[0m\u001b[0;34m\u001b[0m\u001b[0;34m\u001b[0m\u001b[0;34m\u001b[0m\u001b[0m\n\u001b[0;32m--> 189\u001b[0;31m         \u001b[0m_zip\u001b[0m \u001b[0;34m=\u001b[0m \u001b[0mzipfile_factory\u001b[0m\u001b[0;34m(\u001b[0m\u001b[0mfid\u001b[0m\u001b[0;34m)\u001b[0m\u001b[0;34m\u001b[0m\u001b[0;34m\u001b[0m\u001b[0m\n\u001b[0m\u001b[1;32m    190\u001b[0m         \u001b[0mself\u001b[0m\u001b[0;34m.\u001b[0m\u001b[0m_files\u001b[0m \u001b[0;34m=\u001b[0m \u001b[0m_zip\u001b[0m\u001b[0;34m.\u001b[0m\u001b[0mnamelist\u001b[0m\u001b[0;34m(\u001b[0m\u001b[0;34m)\u001b[0m\u001b[0;34m\u001b[0m\u001b[0;34m\u001b[0m\u001b[0m\n\u001b[1;32m    191\u001b[0m         \u001b[0mself\u001b[0m\u001b[0;34m.\u001b[0m\u001b[0mfiles\u001b[0m \u001b[0;34m=\u001b[0m \u001b[0;34m[\u001b[0m\u001b[0;34m]\u001b[0m\u001b[0;34m\u001b[0m\u001b[0;34m\u001b[0m\u001b[0m\n",
            "\u001b[0;32m/usr/local/lib/python3.7/dist-packages/numpy/lib/npyio.py\u001b[0m in \u001b[0;36mzipfile_factory\u001b[0;34m(file, *args, **kwargs)\u001b[0m\n\u001b[1;32m    110\u001b[0m     \u001b[0;32mimport\u001b[0m \u001b[0mzipfile\u001b[0m\u001b[0;34m\u001b[0m\u001b[0;34m\u001b[0m\u001b[0m\n\u001b[1;32m    111\u001b[0m     \u001b[0mkwargs\u001b[0m\u001b[0;34m[\u001b[0m\u001b[0;34m'allowZip64'\u001b[0m\u001b[0;34m]\u001b[0m \u001b[0;34m=\u001b[0m \u001b[0;32mTrue\u001b[0m\u001b[0;34m\u001b[0m\u001b[0;34m\u001b[0m\u001b[0m\n\u001b[0;32m--> 112\u001b[0;31m     \u001b[0;32mreturn\u001b[0m \u001b[0mzipfile\u001b[0m\u001b[0;34m.\u001b[0m\u001b[0mZipFile\u001b[0m\u001b[0;34m(\u001b[0m\u001b[0mfile\u001b[0m\u001b[0;34m,\u001b[0m \u001b[0;34m*\u001b[0m\u001b[0margs\u001b[0m\u001b[0;34m,\u001b[0m \u001b[0;34m**\u001b[0m\u001b[0mkwargs\u001b[0m\u001b[0;34m)\u001b[0m\u001b[0;34m\u001b[0m\u001b[0;34m\u001b[0m\u001b[0m\n\u001b[0m\u001b[1;32m    113\u001b[0m \u001b[0;34m\u001b[0m\u001b[0m\n\u001b[1;32m    114\u001b[0m \u001b[0;34m\u001b[0m\u001b[0m\n",
            "\u001b[0;32m/usr/lib/python3.7/zipfile.py\u001b[0m in \u001b[0;36m__init__\u001b[0;34m(self, file, mode, compression, allowZip64, compresslevel)\u001b[0m\n\u001b[1;32m   1256\u001b[0m         \u001b[0;32mtry\u001b[0m\u001b[0;34m:\u001b[0m\u001b[0;34m\u001b[0m\u001b[0;34m\u001b[0m\u001b[0m\n\u001b[1;32m   1257\u001b[0m             \u001b[0;32mif\u001b[0m \u001b[0mmode\u001b[0m \u001b[0;34m==\u001b[0m \u001b[0;34m'r'\u001b[0m\u001b[0;34m:\u001b[0m\u001b[0;34m\u001b[0m\u001b[0;34m\u001b[0m\u001b[0m\n\u001b[0;32m-> 1258\u001b[0;31m                 \u001b[0mself\u001b[0m\u001b[0;34m.\u001b[0m\u001b[0m_RealGetContents\u001b[0m\u001b[0;34m(\u001b[0m\u001b[0;34m)\u001b[0m\u001b[0;34m\u001b[0m\u001b[0;34m\u001b[0m\u001b[0m\n\u001b[0m\u001b[1;32m   1259\u001b[0m             \u001b[0;32melif\u001b[0m \u001b[0mmode\u001b[0m \u001b[0;32min\u001b[0m \u001b[0;34m(\u001b[0m\u001b[0;34m'w'\u001b[0m\u001b[0;34m,\u001b[0m \u001b[0;34m'x'\u001b[0m\u001b[0;34m)\u001b[0m\u001b[0;34m:\u001b[0m\u001b[0;34m\u001b[0m\u001b[0;34m\u001b[0m\u001b[0m\n\u001b[1;32m   1260\u001b[0m                 \u001b[0;31m# set the modified flag so central directory gets written\u001b[0m\u001b[0;34m\u001b[0m\u001b[0;34m\u001b[0m\u001b[0;34m\u001b[0m\u001b[0m\n",
            "\u001b[0;32m/usr/lib/python3.7/zipfile.py\u001b[0m in \u001b[0;36m_RealGetContents\u001b[0;34m(self)\u001b[0m\n\u001b[1;32m   1323\u001b[0m             \u001b[0;32mraise\u001b[0m \u001b[0mBadZipFile\u001b[0m\u001b[0;34m(\u001b[0m\u001b[0;34m\"File is not a zip file\"\u001b[0m\u001b[0;34m)\u001b[0m\u001b[0;34m\u001b[0m\u001b[0;34m\u001b[0m\u001b[0m\n\u001b[1;32m   1324\u001b[0m         \u001b[0;32mif\u001b[0m \u001b[0;32mnot\u001b[0m \u001b[0mendrec\u001b[0m\u001b[0;34m:\u001b[0m\u001b[0;34m\u001b[0m\u001b[0;34m\u001b[0m\u001b[0m\n\u001b[0;32m-> 1325\u001b[0;31m             \u001b[0;32mraise\u001b[0m \u001b[0mBadZipFile\u001b[0m\u001b[0;34m(\u001b[0m\u001b[0;34m\"File is not a zip file\"\u001b[0m\u001b[0;34m)\u001b[0m\u001b[0;34m\u001b[0m\u001b[0;34m\u001b[0m\u001b[0m\n\u001b[0m\u001b[1;32m   1326\u001b[0m         \u001b[0;32mif\u001b[0m \u001b[0mself\u001b[0m\u001b[0;34m.\u001b[0m\u001b[0mdebug\u001b[0m \u001b[0;34m>\u001b[0m \u001b[0;36m1\u001b[0m\u001b[0;34m:\u001b[0m\u001b[0;34m\u001b[0m\u001b[0;34m\u001b[0m\u001b[0m\n\u001b[1;32m   1327\u001b[0m             \u001b[0mprint\u001b[0m\u001b[0;34m(\u001b[0m\u001b[0mendrec\u001b[0m\u001b[0;34m)\u001b[0m\u001b[0;34m\u001b[0m\u001b[0;34m\u001b[0m\u001b[0m\n",
            "\u001b[0;31mBadZipFile\u001b[0m: File is not a zip file"
          ]
        }
      ],
      "source": [
        "valid_history = np.load('history_predict.npz')['valid_final_result']\n",
        "test_history = np.load('history_predict.npz')['test_final_result']"
      ]
    },
    {
      "cell_type": "code",
      "execution_count": null,
      "metadata": {
        "id": "5GWt9nHeX7OD"
      },
      "outputs": [],
      "source": [
        "print(test_history[:,0])\n",
        "print(np.where(np.all(test_history,axis=0)))\n",
        "print(np.where(np))\n",
        "for i in range(test_history.shape[0]):\n",
        "    print(np.sum(test_history[i]))"
      ]
    },
    {
      "cell_type": "code",
      "execution_count": null,
      "metadata": {
        "id": "7NtwBTUOX7OE"
      },
      "outputs": [],
      "source": [
        "a = tf.constant(np.arange(-100, 200, dtype=np.float32),\n",
        "              shape=[32, 14, 20])\n",
        "b = tf.constant(np.random.randint(0,2,size=[32,14,20],dtype=np.int32).astype(np.float32))\n",
        "#mask = tf.constant(np.random.randint(0,2,size=[2,4],dtype=np.int32).astype(np.float32))\n",
        "sequence1 = tf.constant(np.arange(-32,0, dtype=np.float32),shape=[32])\n",
        "sequence2 = tf.constant(np.arange(-100, 100, dtype=np.int32),shape=[4,32,600])\n",
        "sequence3 = tf.constant(np.arange(-100, 100, dtype=np.int32),shape=[5,32,600])\n",
        "mask = tf.constant(np.array([[1,1,1,0],[1,1,0,0]],dtype=np.float32))\n",
        "c = tf.constant(np.random.rand(2,4,3).astype(np.float32))#shape after attention\n",
        "masks=tf.stack([mask]*3,-1)\n",
        "padding = tf.fill(tf.shape(masks), float(-1e8))\n",
        "attention = tf.where(tf.equal(masks, 0.), padding, c)\n",
        "print(tf.matmul(c,tf.transpose(c,[0,2,1])))"
      ]
    },
    {
      "cell_type": "code",
      "execution_count": null,
      "metadata": {
        "id": "dJtPudHMX7OF"
      },
      "outputs": [],
      "source": [
        "#print(a.eval())\n",
        "b=tf.reshape(tf.transpose(a,[1,0,2]),[32*14,20])\n",
        "c=tf.reshape(a,[32*14,20])\n",
        "#print(b.eval())\n",
        "#print(c.eval())\n",
        "print(tf.transpose(tf.reshape(b,[14,32,20]),[1,0,2]).eval())#huan hui lai bi xu he huan zhi qian xing zhuang yi yang\n",
        "print(tf.reshape(c,[32,14,20]).eval())\n",
        "#print(tf.transpose(tf.reshape(c,[32,14,20]),[1,0,2]).eval())"
      ]
    },
    {
      "cell_type": "code",
      "execution_count": null,
      "metadata": {
        "id": "GC1-eBWxX7OF"
      },
      "outputs": [],
      "source": [
        "#print(tf.abs(tf.sign(b)).eval())\n",
        "#print(tf.abs(a).eval())\n",
        "print(b.eval())\n",
        "print((tf.reduce_sum(tf.reduce_max(tf.abs(b),2),1)/sequence1).eval())"
      ]
    },
    {
      "cell_type": "code",
      "execution_count": null,
      "metadata": {
        "id": "Lr-Y4qR6X7OG"
      },
      "outputs": [],
      "source": [
        "print(attention.eval())\n",
        "print('---------------------------')\n",
        "print(c.eval())"
      ]
    },
    {
      "cell_type": "code",
      "execution_count": null,
      "metadata": {
        "id": "XnuS05g7X7OH"
      },
      "outputs": [],
      "source": [
        "print(tf.nn.softmax(attention,1).eval())\n",
        "print('---------------------------')\n",
        "#print(tf.nn.softmax(c,1).eval())\n",
        "#print('---------------------------')\n",
        "print((tf.nn.softmax(c,1)*masks).eval())#mask the attention\n",
        "#print((tf.nn.softmax(attention,1)*masks)[1,:,:].eval())"
      ]
    },
    {
      "cell_type": "code",
      "execution_count": null,
      "metadata": {
        "id": "Iajl4jnfX7OI"
      },
      "outputs": [],
      "source": [
        "#iden=tf.eye(40,batch_shape=[32])\n",
        "iden4=tf.eye(4,)\n",
        "iden5=tf.eye(5,)\n",
        "a = tf.constant(np.array([12,2,4,1]*5, dtype=np.float32),shape=[4,5])\n",
        "print(a.eval())\n",
        "print('-------------origin--------------')\n",
        "c=tf.nn.softmax(a,1)\n",
        "print(c.eval())\n",
        "print('-----------attention----------------')\n",
        "b=tf.matmul(c,tf.transpose(c))\n",
        "bb=tf.matmul(tf.transpose(c),c)\n",
        "print(b.eval())\n",
        "print('-----------matrix multipule----------------')\n",
        "#print(bb.eval())\n",
        "#print('-----------bb----------------')\n",
        "#(iden-tf.expand_dims(tf.expand_dims(cc,-1),-1)).eval()\n",
        "c1=tf.norm(b-iden4, ord='fro', axis=(-2,-1))\n",
        "print(c1.eval())\n",
        "print('------------result---------------')\n",
        "#c2=tf.norm(bb-iden5, ord='fro', axis=(-2,-1))\n",
        "#print(c2.eval())\n",
        "#print('------------c2---------------')"
      ]
    },
    {
      "cell_type": "code",
      "execution_count": null,
      "metadata": {
        "id": "XvJ1YKPwX7OK"
      },
      "outputs": [],
      "source": [
        "print(tf.nn.softmax(attention).eval())\n",
        "print('---------------------------')\n",
        "print(tf.nn.softmax(c).eval())"
      ]
    },
    {
      "cell_type": "code",
      "execution_count": null,
      "metadata": {
        "id": "7KMA6N03X7OL"
      },
      "outputs": [],
      "source": [
        "#print(tf.nn.softmax(a,-1).eval())\n",
        "print(c.eval())\n",
        "print('---------------------------------------')\n",
        "print(tf.nn.softmax(c,-1).eval())\n",
        "#print(tf.transpose(tf.nn.softmax(a,-1),[1,0,2,3]).eval())\n",
        "#print(tf.transpose(tf.transpose(tf.nn.softmax(a,-1),[1,0,2,3]),[1,0,2,3]).eval())"
      ]
    },
    {
      "cell_type": "code",
      "execution_count": null,
      "metadata": {
        "id": "UBdvwwOhX7OL"
      },
      "outputs": [],
      "source": [
        "print(a.eval())\n",
        "print('-----aaaa----')\n",
        "print(tf.transpose(a,[1,0,2]).eval())\n",
        "print('----transpose-----')\n",
        "print(tf.reshape(a,[5,4,2]).eval())\n",
        "print('-----reshape----')"
      ]
    },
    {
      "cell_type": "code",
      "execution_count": null,
      "metadata": {
        "id": "0KwndpfAX7OM"
      },
      "outputs": [],
      "source": [
        "#b=tf.expand_dims(b,-1)\n",
        "print(tf.abs(tf.sign(a)).eval())\n",
        "#padding.eval()\n",
        "#b=tf.where(tf.equal(b, 0), padding, tf.cast(b,tf.float32))\n",
        "#tf.nn.softmax(b, 1).eval()\n",
        "d=tf.expand_dims(tf.argmax(tf.nn.softmax(b, 1),1),-1).eval()\n",
        "c.eval()\n",
        "tf.equal(d,tf.cast(c,tf.int64))\n"
      ]
    },
    {
      "cell_type": "code",
      "execution_count": null,
      "metadata": {
        "id": "Bx5ZHY-5X7ON"
      },
      "outputs": [],
      "source": [
        "output=[]\n",
        "print(sequence.eval())\n",
        "for i,j in enumerate(tf.unstack(sequence)) :\n",
        "    output.append(i)\n",
        "print(tf.stack(output).eval())\n"
      ]
    },
    {
      "cell_type": "code",
      "execution_count": null,
      "metadata": {
        "id": "9fHNOcmXX7ON"
      },
      "outputs": [],
      "source": [
        "c=a*b"
      ]
    },
    {
      "cell_type": "code",
      "execution_count": null,
      "metadata": {
        "id": "Xr6gTQ0eX7ON"
      },
      "outputs": [],
      "source": [
        "c,c.eval()"
      ]
    },
    {
      "cell_type": "code",
      "execution_count": null,
      "metadata": {
        "id": "cLWWt0iEX7OO"
      },
      "outputs": [],
      "source": [
        ""
      ]
    },
    {
      "cell_type": "code",
      "execution_count": null,
      "metadata": {
        "id": "yNN4X3GOX7OO"
      },
      "outputs": [],
      "source": [
        "x = tf.placeholder(tf.float32, shape=[None, 10])\n",
        "sess = tf.InteractiveSession()\n",
        "sess.run(tf.range(tf.shape(x)[0]), {x: np.zeros((7,10))})"
      ]
    },
    {
      "cell_type": "code",
      "execution_count": null,
      "metadata": {
        "id": "ZonIg39qX7OP"
      },
      "outputs": [],
      "source": [
        "def aa(x):\n",
        "    print(x)\n",
        "tf.map_fn(lambda y: y, x) "
      ]
    },
    {
      "cell_type": "code",
      "execution_count": null,
      "metadata": {
        "id": "nY86Ce7VX7OP"
      },
      "outputs": [],
      "source": [
        "TensorArr = tf.TensorArray(tf.int32, 1, dynamic_size=True, infer_shape=False)\n",
        "x_array = TensorArr.unstack(sequence)\n",
        "for i in enumeratx_array:\n",
        "    print(i.read(0))"
      ]
    },
    {
      "cell_type": "code",
      "execution_count": null,
      "metadata": {
        "id": "Amd_WPf-X7OP"
      },
      "outputs": [],
      "source": [
        ""
      ]
    }
  ],
  "metadata": {
    "kernelspec": {
      "display_name": "Python 3",
      "language": "python",
      "name": "python3"
    },
    "language_info": {
      "codemirror_mode": {
        "name": "ipython",
        "version": 3
      },
      "file_extension": ".py",
      "mimetype": "text/x-python",
      "name": "python",
      "nbconvert_exporter": "python",
      "pygments_lexer": "ipython3",
      "version": "3.5.2"
    },
    "colab": {
      "name": "tensorexample.ipynb",
      "provenance": [],
      "collapsed_sections": [],
      "include_colab_link": true
    }
  },
  "nbformat": 4,
  "nbformat_minor": 0
}
{
  "cells": [
    {
      "cell_type": "markdown",
      "metadata": {
        "id": "view-in-github",
        "colab_type": "text"
      },
      "source": [
        "<a href=\"https://colab.research.google.com/github/FrancisLeung/Stock-Price-Prediction-with-a-hybrid-DL-models-of-stock-price-and-economic-data/blob/main/Multivariate_3_RNN.ipynb\" target=\"_parent\"><img src=\"https://colab.research.google.com/assets/colab-badge.svg\" alt=\"Open In Colab\"/></a>"
      ]
    },
    {
      "cell_type": "code",
      "execution_count": 1,
      "metadata": {
        "colab": {
          "base_uri": "https://localhost:8080/"
        },
        "id": "S19jleua1_GE",
        "outputId": "9d8e24ac-2011-445a-bb79-ae69629ee54c"
      },
      "outputs": [
        {
          "output_type": "stream",
          "name": "stdout",
          "text": [
            "3.7.13 (default, Mar 16 2022, 17:37:17) \n",
            "[GCC 7.5.0]\n"
          ]
        }
      ],
      "source": [
        "import sys\n",
        "print(sys.version)"
      ]
    },
    {
      "cell_type": "code",
      "execution_count": 2,
      "metadata": {
        "id": "XGXh32Yl3E5s"
      },
      "outputs": [],
      "source": [
        "# Importing dependencies\n",
        "\n",
        "import os\n",
        "os.environ['PYTHONHASHSEED'] = '0'\n",
        "import random as rn\n",
        "import numpy as np\n",
        "np.random.seed(1)\n",
        "rn.seed(3)\n",
        "#from tensorflow import set_random_seed\n",
        "#set_random_seed(2)\n",
        "import tensorflow as tf\n",
        "tf.compat.v1.set_random_seed(2)\n",
        "\n",
        "import pandas as pd\n",
        "import matplotlib.pyplot as plt\n",
        "from keras.models import Sequential, load_model\n",
        "from keras.layers.core import Dense\n",
        "from keras.layers.recurrent import SimpleRNN\n",
        "from keras import optimizers\n",
        "from keras.callbacks import EarlyStopping\n",
        "from sklearn.preprocessing import MinMaxScaler\n",
        "from sklearn.metrics import mean_squared_error, r2_score\n",
        "from math import sqrt\n",
        "import datetime as dt\n",
        "import time\n",
        "plt.style.use('ggplot')"
      ]
    },
    {
      "cell_type": "markdown",
      "metadata": {
        "id": "STBZ5SxvNosK"
      },
      "source": [
        "## Dataset Preprocessing and Feature Extraction"
      ]
    },
    {
      "cell_type": "code",
      "execution_count": 3,
      "metadata": {
        "colab": {
          "base_uri": "https://localhost:8080/",
          "height": 238
        },
        "id": "r5O0a39R9Z_Z",
        "outputId": "223d2bf9-4c3d-4de0-dbca-7029db7cda46"
      },
      "outputs": [
        {
          "output_type": "execute_result",
          "data": {
            "text/plain": [
              "                 Open       High        Low      Close  Adj Close  Volume\n",
              "Date                                                                     \n",
              "2019-02-15  19.200001  19.639999  19.180000  19.590000  19.590000  146000\n",
              "2019-02-19  19.500000  19.600000  19.100000  19.549999  19.549999  138100\n",
              "2019-02-20  19.660000  20.059999  19.520000  19.920000  19.920000  133400\n",
              "2019-02-21  19.740000  20.790001  19.530001  20.190001  20.190001  167000\n",
              "2019-02-22  20.389999  21.080000  20.379999  21.000000  21.000000  434100"
            ],
            "text/html": [
              "\n",
              "  <div id=\"df-51db4c42-443d-4951-8541-c8b99416f2cd\">\n",
              "    <div class=\"colab-df-container\">\n",
              "      <div>\n",
              "<style scoped>\n",
              "    .dataframe tbody tr th:only-of-type {\n",
              "        vertical-align: middle;\n",
              "    }\n",
              "\n",
              "    .dataframe tbody tr th {\n",
              "        vertical-align: top;\n",
              "    }\n",
              "\n",
              "    .dataframe thead th {\n",
              "        text-align: right;\n",
              "    }\n",
              "</style>\n",
              "<table border=\"1\" class=\"dataframe\">\n",
              "  <thead>\n",
              "    <tr style=\"text-align: right;\">\n",
              "      <th></th>\n",
              "      <th>Open</th>\n",
              "      <th>High</th>\n",
              "      <th>Low</th>\n",
              "      <th>Close</th>\n",
              "      <th>Adj Close</th>\n",
              "      <th>Volume</th>\n",
              "    </tr>\n",
              "    <tr>\n",
              "      <th>Date</th>\n",
              "      <th></th>\n",
              "      <th></th>\n",
              "      <th></th>\n",
              "      <th></th>\n",
              "      <th></th>\n",
              "      <th></th>\n",
              "    </tr>\n",
              "  </thead>\n",
              "  <tbody>\n",
              "    <tr>\n",
              "      <th>2019-02-15</th>\n",
              "      <td>19.200001</td>\n",
              "      <td>19.639999</td>\n",
              "      <td>19.180000</td>\n",
              "      <td>19.590000</td>\n",
              "      <td>19.590000</td>\n",
              "      <td>146000</td>\n",
              "    </tr>\n",
              "    <tr>\n",
              "      <th>2019-02-19</th>\n",
              "      <td>19.500000</td>\n",
              "      <td>19.600000</td>\n",
              "      <td>19.100000</td>\n",
              "      <td>19.549999</td>\n",
              "      <td>19.549999</td>\n",
              "      <td>138100</td>\n",
              "    </tr>\n",
              "    <tr>\n",
              "      <th>2019-02-20</th>\n",
              "      <td>19.660000</td>\n",
              "      <td>20.059999</td>\n",
              "      <td>19.520000</td>\n",
              "      <td>19.920000</td>\n",
              "      <td>19.920000</td>\n",
              "      <td>133400</td>\n",
              "    </tr>\n",
              "    <tr>\n",
              "      <th>2019-02-21</th>\n",
              "      <td>19.740000</td>\n",
              "      <td>20.790001</td>\n",
              "      <td>19.530001</td>\n",
              "      <td>20.190001</td>\n",
              "      <td>20.190001</td>\n",
              "      <td>167000</td>\n",
              "    </tr>\n",
              "    <tr>\n",
              "      <th>2019-02-22</th>\n",
              "      <td>20.389999</td>\n",
              "      <td>21.080000</td>\n",
              "      <td>20.379999</td>\n",
              "      <td>21.000000</td>\n",
              "      <td>21.000000</td>\n",
              "      <td>434100</td>\n",
              "    </tr>\n",
              "  </tbody>\n",
              "</table>\n",
              "</div>\n",
              "      <button class=\"colab-df-convert\" onclick=\"convertToInteractive('df-51db4c42-443d-4951-8541-c8b99416f2cd')\"\n",
              "              title=\"Convert this dataframe to an interactive table.\"\n",
              "              style=\"display:none;\">\n",
              "        \n",
              "  <svg xmlns=\"http://www.w3.org/2000/svg\" height=\"24px\"viewBox=\"0 0 24 24\"\n",
              "       width=\"24px\">\n",
              "    <path d=\"M0 0h24v24H0V0z\" fill=\"none\"/>\n",
              "    <path d=\"M18.56 5.44l.94 2.06.94-2.06 2.06-.94-2.06-.94-.94-2.06-.94 2.06-2.06.94zm-11 1L8.5 8.5l.94-2.06 2.06-.94-2.06-.94L8.5 2.5l-.94 2.06-2.06.94zm10 10l.94 2.06.94-2.06 2.06-.94-2.06-.94-.94-2.06-.94 2.06-2.06.94z\"/><path d=\"M17.41 7.96l-1.37-1.37c-.4-.4-.92-.59-1.43-.59-.52 0-1.04.2-1.43.59L10.3 9.45l-7.72 7.72c-.78.78-.78 2.05 0 2.83L4 21.41c.39.39.9.59 1.41.59.51 0 1.02-.2 1.41-.59l7.78-7.78 2.81-2.81c.8-.78.8-2.07 0-2.86zM5.41 20L4 18.59l7.72-7.72 1.47 1.35L5.41 20z\"/>\n",
              "  </svg>\n",
              "      </button>\n",
              "      \n",
              "  <style>\n",
              "    .colab-df-container {\n",
              "      display:flex;\n",
              "      flex-wrap:wrap;\n",
              "      gap: 12px;\n",
              "    }\n",
              "\n",
              "    .colab-df-convert {\n",
              "      background-color: #E8F0FE;\n",
              "      border: none;\n",
              "      border-radius: 50%;\n",
              "      cursor: pointer;\n",
              "      display: none;\n",
              "      fill: #1967D2;\n",
              "      height: 32px;\n",
              "      padding: 0 0 0 0;\n",
              "      width: 32px;\n",
              "    }\n",
              "\n",
              "    .colab-df-convert:hover {\n",
              "      background-color: #E2EBFA;\n",
              "      box-shadow: 0px 1px 2px rgba(60, 64, 67, 0.3), 0px 1px 3px 1px rgba(60, 64, 67, 0.15);\n",
              "      fill: #174EA6;\n",
              "    }\n",
              "\n",
              "    [theme=dark] .colab-df-convert {\n",
              "      background-color: #3B4455;\n",
              "      fill: #D2E3FC;\n",
              "    }\n",
              "\n",
              "    [theme=dark] .colab-df-convert:hover {\n",
              "      background-color: #434B5C;\n",
              "      box-shadow: 0px 1px 3px 1px rgba(0, 0, 0, 0.15);\n",
              "      filter: drop-shadow(0px 1px 2px rgba(0, 0, 0, 0.3));\n",
              "      fill: #FFFFFF;\n",
              "    }\n",
              "  </style>\n",
              "\n",
              "      <script>\n",
              "        const buttonEl =\n",
              "          document.querySelector('#df-51db4c42-443d-4951-8541-c8b99416f2cd button.colab-df-convert');\n",
              "        buttonEl.style.display =\n",
              "          google.colab.kernel.accessAllowed ? 'block' : 'none';\n",
              "\n",
              "        async function convertToInteractive(key) {\n",
              "          const element = document.querySelector('#df-51db4c42-443d-4951-8541-c8b99416f2cd');\n",
              "          const dataTable =\n",
              "            await google.colab.kernel.invokeFunction('convertToInteractive',\n",
              "                                                     [key], {});\n",
              "          if (!dataTable) return;\n",
              "\n",
              "          const docLinkHtml = 'Like what you see? Visit the ' +\n",
              "            '<a target=\"_blank\" href=https://colab.research.google.com/notebooks/data_table.ipynb>data table notebook</a>'\n",
              "            + ' to learn more about interactive tables.';\n",
              "          element.innerHTML = '';\n",
              "          dataTable['output_type'] = 'display_data';\n",
              "          await google.colab.output.renderOutput(dataTable, element);\n",
              "          const docLink = document.createElement('div');\n",
              "          docLink.innerHTML = docLinkHtml;\n",
              "          element.appendChild(docLink);\n",
              "        }\n",
              "      </script>\n",
              "    </div>\n",
              "  </div>\n",
              "  "
            ]
          },
          "metadata": {},
          "execution_count": 3
        }
      ],
      "source": [
        "# Loading the dataset\n",
        "url = '/content/sample_data/CSV.csv'\n",
        "df = pd.read_csv(url,parse_dates = True,index_col=0)\n",
        "df.tail()"
      ]
    },
    {
      "cell_type": "code",
      "execution_count": 4,
      "metadata": {
        "colab": {
          "base_uri": "https://localhost:8080/",
          "height": 291
        },
        "id": "QU5bnxgENosO",
        "outputId": "a0d2be12-cbb7-4bd8-9444-232ea8e30683"
      },
      "outputs": [
        {
          "output_type": "execute_result",
          "data": {
            "text/plain": [
              "<matplotlib.axes._subplots.AxesSubplot at 0x7f41b5dbc6d0>"
            ]
          },
          "metadata": {},
          "execution_count": 4
        },
        {
          "output_type": "display_data",
          "data": {
            "text/plain": [
              "<Figure size 432x288 with 1 Axes>"
            ],
            "image/png": "[encoded data removed]"
          },
          "metadata": {}
        }
      ],
      "source": [
        "df['Close'].plot()"
      ]
    },
    {
      "cell_type": "code",
      "execution_count": 5,
      "metadata": {
        "colab": {
          "base_uri": "https://localhost:8080/"
        },
        "id": "2H5Lkte_NgWT",
        "outputId": "bd600262-624a-465e-b669-1778cb0fb9eb"
      },
      "outputs": [
        {
          "output_type": "execute_result",
          "data": {
            "text/plain": [
              "Open         0.999440\n",
              "High         0.999733\n",
              "Low          0.999712\n",
              "Close        1.000000\n",
              "Adj Close    0.999319\n",
              "Volume       0.237297\n",
              "Name: Close, dtype: float64"
            ]
          },
          "metadata": {},
          "execution_count": 5
        }
      ],
      "source": [
        "# Correlation matrix\n",
        "df.corr()['Close']"
      ]
    },
    {
      "cell_type": "code",
      "execution_count": 6,
      "metadata": {
        "colab": {
          "base_uri": "https://localhost:8080/",
          "height": 452
        },
        "id": "1anbu_yx3bta",
        "outputId": "c04b2361-9c4e-4ade-ef3a-310735b1d2ac"
      },
      "outputs": [
        {
          "output_type": "stream",
          "name": "stdout",
          "text": [
            "count    5.672000e+03\n",
            "mean     6.335628e+04\n",
            "std      8.749770e+04\n",
            "min      0.000000e+00\n",
            "25%      1.850000e+04\n",
            "50%      3.985000e+04\n",
            "75%      7.900000e+04\n",
            "max      2.073400e+06\n",
            "Name: Volume, dtype: float64\n"
          ]
        },
        {
          "output_type": "execute_result",
          "data": {
            "text/plain": [
              "<matplotlib.axes._subplots.AxesSubplot at 0x7f4134191e10>"
            ]
          },
          "metadata": {},
          "execution_count": 6
        },
        {
          "output_type": "display_data",
          "data": {
            "text/plain": [
              "<Figure size 432x288 with 1 Axes>"
            ],
            "image/png": "[encoded data removed]"
          },
          "metadata": {}
        }
      ],
      "source": [
        "# Distribution of Various Features\n",
        "print(df.describe().Volume) \n",
        "df.drop(df[df['Volume']==0].index, inplace = True) #Dropping rows with volume value 0\n",
        "df['Volume'].hist(bins = 10)"
      ]
    },
    {
      "cell_type": "code",
      "execution_count": 7,
      "metadata": {
        "id": "FNioyc6mZUAJ"
      },
      "outputs": [],
      "source": [
        "# Setting up an early stop\n",
        "earlystop = EarlyStopping(monitor='val_loss', min_delta=0.0001, patience=80,  verbose=1, mode='min')\n",
        "callbacks_list = [earlystop]"
      ]
    },
    {
      "cell_type": "code",
      "execution_count": 8,
      "metadata": {
        "id": "zRVEzZ1FXj_p"
      },
      "outputs": [],
      "source": [
        "#Build and train the model\n",
        "def fit_model(train,val,timesteps,hl,lr,batch,epochs):\n",
        "    X_train = []\n",
        "    Y_train = []\n",
        "    X_val = []\n",
        "    Y_val = []\n",
        "  \n",
        "    # Loop for training data\n",
        "    for i in range(timesteps,train.shape[0]):\n",
        "        X_train.append(train[i-timesteps:i])\n",
        "        Y_train.append(train[i][0])\n",
        "    X_train,Y_train = np.array(X_train),np.array(Y_train)\n",
        "  \n",
        "    # Loop for val data\n",
        "    for i in range(timesteps,val.shape[0]):\n",
        "        X_val.append(val[i-timesteps:i])\n",
        "        Y_val.append(val[i][0])\n",
        "    X_val,Y_val = np.array(X_val),np.array(Y_val)\n",
        "    \n",
        "    # Adding Layers to the model\n",
        "    model = Sequential()\n",
        "    model.add(SimpleRNN(X_train.shape[2],input_shape = (X_train.shape[1],X_train.shape[2]),return_sequences = True,\n",
        "                        activation = 'relu'))\n",
        "    for i in range(len(hl)-1):        \n",
        "        model.add(SimpleRNN(hl[i],activation = 'relu',return_sequences = True))\n",
        "    model.add(SimpleRNN(hl[-1],activation = 'relu'))\n",
        "    model.add(Dense(1))\n",
        "    #model.compile(optimizer = optimizers.Adam(lr = lr), loss = 'mean_squared_error')\n",
        "    model.compile(optimizer = tf.keras.optimizers.Adam(lr = lr), loss = 'mean_squared_error')\n",
        "    #print(model.summary())\n",
        "  \n",
        "    # Training the data\n",
        "    history = model.fit(X_train,Y_train,epochs = epochs,batch_size = batch,validation_data = (X_val, Y_val),verbose = 0,\n",
        "                        shuffle = False, callbacks=callbacks_list)\n",
        "    model.reset_states()\n",
        "    return model, history.history['loss'], history.history['val_loss']\n",
        "  "
      ]
    },
    {
      "cell_type": "code",
      "execution_count": 9,
      "metadata": {
        "id": "LpwHmJeQJqyI"
      },
      "outputs": [],
      "source": [
        "# Evaluating the model\n",
        "def evaluate_model(model,test,timesteps):\n",
        "    X_test = []\n",
        "    Y_test = []\n",
        "\n",
        "    # Loop for testing data\n",
        "    for i in range(timesteps,test.shape[0]):\n",
        "        X_test.append(test[i-timesteps:i])\n",
        "        Y_test.append(test[i][0])\n",
        "    X_test,Y_test = np.array(X_test),np.array(Y_test)\n",
        "    #print(X_test.shape,Y_test.shape)\n",
        "  \n",
        "    # Prediction Time !!!!\n",
        "    Y_hat = model.predict(X_test)\n",
        "    mse = mean_squared_error(Y_test,Y_hat)\n",
        "    rmse = sqrt(mse)\n",
        "    r = r2_score(Y_test,Y_hat)\n",
        "    return mse, rmse, r, Y_test, Y_hat\n",
        "  "
      ]
    },
    {
      "cell_type": "code",
      "execution_count": 10,
      "metadata": {
        "id": "pI0q18ajCLx6"
      },
      "outputs": [],
      "source": [
        "# Plotting the predictions\n",
        "def plot_data(Y_test,Y_hat):\n",
        "    plt.plot(Y_test,c = 'r')\n",
        "    plt.plot(Y_hat,c = 'y')\n",
        "    plt.xlabel('Day')\n",
        "    plt.ylabel('Price')\n",
        "    plt.title(\"Stock Price Prediction using Multivatiate-RNN\")\n",
        "    plt.legend(['Actual','Predicted'],loc = 'lower right')\n",
        "    plt.show()"
      ]
    },
    {
      "cell_type": "code",
      "execution_count": 11,
      "metadata": {
        "id": "4NeqKRBZZr0Q"
      },
      "outputs": [],
      "source": [
        "# Plotting the training errors\n",
        "def plot_error(train_loss,val_loss):\n",
        "    plt.plot(train_loss,c = 'r')\n",
        "    plt.plot(val_loss,c = 'b')\n",
        "    plt.ylabel('Loss')\n",
        "    plt.xlabel('Epochs')\n",
        "    plt.title('Loss Plot')\n",
        "    plt.legend(['train','val'],loc = 'upper right')\n",
        "    plt.show()"
      ]
    },
    {
      "cell_type": "markdown",
      "metadata": {
        "id": "Nhb1lsx_NosY"
      },
      "source": [
        "## Model Building"
      ]
    },
    {
      "cell_type": "code",
      "execution_count": 12,
      "metadata": {
        "colab": {
          "base_uri": "https://localhost:8080/"
        },
        "id": "gAvOMIyjIQO-",
        "outputId": "a42a2b0d-9927-40a9-8d9e-ec124d431d83"
      },
      "outputs": [
        {
          "output_type": "stream",
          "name": "stdout",
          "text": [
            "(5670, 3)\n",
            "                Close       High  Volume\n",
            "Date                                    \n",
            "2019-02-15  19.590000  19.639999  146000\n",
            "2019-02-19  19.549999  19.600000  138100\n",
            "2019-02-20  19.920000  20.059999  133400\n",
            "2019-02-21  20.190001  20.790001  167000\n",
            "2019-02-22  21.000000  21.080000  434100\n"
          ]
        }
      ],
      "source": [
        "# Extracting the series\n",
        "series = df[['Close','High','Volume']] # Picking the multivariate series \n",
        "print(series.shape)\n",
        "print(series.tail())"
      ]
    },
    {
      "cell_type": "code",
      "execution_count": 13,
      "metadata": {
        "colab": {
          "base_uri": "https://localhost:8080/"
        },
        "id": "Tjso-RjNDmbs",
        "outputId": "2984ad8e-0552-4ea9-d5d2-2d1e0e7fddfc"
      },
      "outputs": [
        {
          "output_type": "stream",
          "name": "stdout",
          "text": [
            "(2515, 3) (504, 3) (503, 3)\n"
          ]
        }
      ],
      "source": [
        "# Train Val Test Split\n",
        "train_start = dt.date(1997,1,1)\n",
        "train_end = dt.date(2006,12,31)\n",
        "train_data = series.loc[train_start:train_end]\n",
        "\n",
        "val_start = dt.date(2007,1,1)\n",
        "val_end = dt.date(2008,12,31)\n",
        "val_data = series.loc[val_start:val_end]\n",
        "\n",
        "test_start = dt.date(2009,1,1)\n",
        "test_end = dt.date(2010,12,31)\n",
        "test_data = series.loc[test_start:test_end]\n",
        "\n",
        "print(train_data.shape,val_data.shape,test_data.shape)"
      ]
    },
    {
      "cell_type": "code",
      "execution_count": 14,
      "metadata": {
        "colab": {
          "base_uri": "https://localhost:8080/"
        },
        "id": "NWXR5oL2ZnY4",
        "outputId": "64992d1c-bff3-43a3-d2e5-ffb85688fb0d"
      },
      "outputs": [
        {
          "output_type": "stream",
          "name": "stdout",
          "text": [
            "(2515, 3) (504, 3) (503, 3)\n"
          ]
        }
      ],
      "source": [
        "# Normalisation\n",
        "sc = MinMaxScaler()\n",
        "train = sc.fit_transform(train_data)\n",
        "val = sc.transform(val_data)\n",
        "test = sc.transform(test_data)\n",
        "print(train.shape,val.shape,test.shape)"
      ]
    },
    {
      "cell_type": "code",
      "execution_count": 15,
      "metadata": {
        "id": "uLGqwObZNosa"
      },
      "outputs": [],
      "source": [
        "timesteps = 30\n",
        "hl = [50,45]\n",
        "lr = 1e-3\n",
        "batch_size = 32\n",
        "num_epochs = 200"
      ]
    },
    {
      "cell_type": "code",
      "execution_count": null,
      "metadata": {
        "colab": {
          "base_uri": "https://localhost:8080/"
        },
        "id": "zAhCUOdtNosa",
        "outputId": "3085617b-e50b-4616-a638-ce368ba8eb68"
      },
      "outputs": [
        {
          "output_type": "stream",
          "name": "stderr",
          "text": [
            "/usr/local/lib/python3.7/dist-packages/keras/optimizer_v2/adam.py:105: UserWarning: The `lr` argument is deprecated, use `learning_rate` instead.\n",
            "  super(Adam, self).__init__(name, **kwargs)\n"
          ]
        }
      ],
      "source": [
        "model,train_error,val_error = fit_model(train,val,timesteps,hl,lr,batch_size,num_epochs)\n",
        "plot_error(train_error,val_error)"
      ]
    },
    {
      "cell_type": "code",
      "execution_count": null,
      "metadata": {
        "id": "diUjgnuRNosb"
      },
      "outputs": [],
      "source": [
        "mse, rmse, r2_value,true,predicted = evaluate_model(model,test,30)\n",
        "print('MSE = {}'.format(mse))\n",
        "print('RMSE = {}'.format(rmse))\n",
        "print('R-Squared Score = {}'.format(r2_value))\n",
        "plot_data(true,predicted)"
      ]
    },
    {
      "cell_type": "code",
      "execution_count": null,
      "metadata": {
        "id": "5mJnzFIPCZnw"
      },
      "outputs": [],
      "source": [
        "# Save a model\n",
        "model.save('MV3-RNN_30_[50,45]_1e-3_32.h5')\n",
        "del model # Deletes the model\n",
        "# Load a model\n",
        "#model = load_model('model_simple_30_[50,45]_1e-3_32.h5')"
      ]
    },
    {
      "cell_type": "markdown",
      "metadata": {
        "id": "L4PARCmjNose"
      },
      "source": [
        "## Cross Validation"
      ]
    },
    {
      "cell_type": "code",
      "execution_count": null,
      "metadata": {
        "id": "jLTCfDUmNose"
      },
      "outputs": [],
      "source": [
        "# Hyperparameters\n",
        "timesteps = 30\n",
        "hl = [50,45]\n",
        "lr = 1e-3\n",
        "batch_size = 32\n",
        "num_epochs = 50"
      ]
    },
    {
      "cell_type": "code",
      "execution_count": null,
      "metadata": {
        "id": "7Z3w-Uj4Nose"
      },
      "outputs": [],
      "source": [
        "# Extracting the series\n",
        "series = df[['Close','High','Volume']] # Picking the multivariate series \n",
        "print(series.shape)\n",
        "print(series.tail())"
      ]
    },
    {
      "cell_type": "code",
      "execution_count": null,
      "metadata": {
        "id": "j2gorN3tNosf"
      },
      "outputs": [],
      "source": [
        "# Normalisation\n",
        "sc = MinMaxScaler()\n",
        "series = sc.fit_transform(series[:5400])\n",
        "series"
      ]
    },
    {
      "cell_type": "markdown",
      "metadata": {
        "id": "-8N_oDrcNosf"
      },
      "source": [
        "### Split I"
      ]
    },
    {
      "cell_type": "code",
      "execution_count": null,
      "metadata": {
        "id": "gY6z9fnINosf"
      },
      "outputs": [],
      "source": [
        "#Splitting the data for initial model creation\n",
        "splits = 5\n",
        "split_size = 600\n",
        "num_epochs = 50\n",
        "train = series[:3*split_size]\n",
        "test = series[3*split_size:4*split_size]\n",
        "#val = sc.transform(val_data)\n",
        "#test = sc.transform(test_data)\n",
        "#print(train.shape,val.shape,test.shape)"
      ]
    },
    {
      "cell_type": "code",
      "execution_count": null,
      "metadata": {
        "id": "PRBDJnPLNosg"
      },
      "outputs": [],
      "source": [
        "cross_val_results = list()\n",
        "train_loss = pd.DataFrame()\n",
        "val_loss = pd.DataFrame()\n",
        "model,train_error,val_error = fit_model(train,val,timesteps,hl,lr,batch_size,num_epochs)\n",
        "train_loss['Split1'] = train_error\n",
        "val_loss['Split1'] = val_error\n",
        "mse, rmse, r2_value,true,predicted = evaluate_model(model,test,timesteps)\n",
        "print(\"Split 1\")\n",
        "print('MSE = {}'.format(mse))\n",
        "print('RMSE = {}'.format(rmse))\n",
        "print('R-Squared Score = {}'.format(r2_value))\n",
        "plot_data(true,predicted)\n",
        "cross_val_results.append([mse,rmse,r2_value,0])\n",
        "model.save(\"MV3-RNN-Split1.h5\")"
      ]
    },
    {
      "cell_type": "markdown",
      "metadata": {
        "id": "upW3Zj56Nosg"
      },
      "source": [
        "### Split II"
      ]
    },
    {
      "cell_type": "code",
      "execution_count": null,
      "metadata": {
        "id": "Ve3w4E-KNosg"
      },
      "outputs": [],
      "source": [
        "train = series[:4*split_size]\n",
        "test = series[4*split_size:5*split_size]\n",
        "X_train,Y_train = [],[]\n",
        "# Loop for training data\n",
        "for i in range(timesteps,train.shape[0]):\n",
        "    X_train.append(train[i-timesteps:i])\n",
        "    Y_train.append(train[i][0])\n",
        "X_train,Y_train = np.array(X_train),np.array(Y_train)\n",
        "\n",
        "start = time.time()\n",
        "history = model.fit(X_train,Y_train,epochs = num_epochs,batch_size = batch_size,validation_split = 0.2,verbose = 0,\n",
        "                    shuffle = False)\n",
        "end = time.time()   \n",
        "train_loss[\"Split2\"] = history.history['loss']\n",
        "val_loss[\"Split2\"] = history.history['val_loss']\n",
        "mse, rmse, r2_value,true,predicted = evaluate_model(model,test,timesteps)\n",
        "print(\"Split 2\")\n",
        "print('MSE = {}'.format(mse))\n",
        "print('RMSE = {}'.format(rmse))\n",
        "print('R-Squared Score = {}'.format(r2_value))\n",
        "plot_data(true,predicted)\n",
        "cross_val_results.append([mse,rmse,r2_value,end-start])\n",
        "model.save(\"MV3-RNN-Split2.h5\")"
      ]
    },
    {
      "cell_type": "markdown",
      "metadata": {
        "id": "-mzQ0w4jNosh"
      },
      "source": [
        "### Split III"
      ]
    },
    {
      "cell_type": "code",
      "execution_count": null,
      "metadata": {
        "scrolled": true,
        "id": "SbaZwgtwNosh"
      },
      "outputs": [],
      "source": [
        "train = series[:5*split_size]\n",
        "test = series[5*split_size:6*split_size]\n",
        "X_train,Y_train = [],[]\n",
        "# Loop for training data\n",
        "for i in range(timesteps,train.shape[0]):\n",
        "    X_train.append(train[i-timesteps:i])\n",
        "    Y_train.append(train[i][0])\n",
        "X_train,Y_train = np.array(X_train),np.array(Y_train)\n",
        "\n",
        "start = time.time()\n",
        "history = model.fit(X_train,Y_train,epochs = num_epochs,batch_size = batch_size,validation_split = 0.2,verbose = 0,\n",
        "                    shuffle = False)\n",
        "end = time.time()   \n",
        "train_loss[\"Split3\"] = history.history['loss']\n",
        "val_loss[\"Split3\"] = history.history['val_loss']\n",
        "mse, rmse, r2_value,true,predicted = evaluate_model(model,test,timesteps)\n",
        "print(\"Split 3\")\n",
        "print('MSE = {}'.format(mse))\n",
        "print('RMSE = {}'.format(rmse))\n",
        "print('R-Squared Score = {}'.format(r2_value))\n",
        "plot_data(true,predicted)\n",
        "cross_val_results.append([mse,rmse,r2_value,end-start])\n",
        "model.save(\"MV3-RNN-Split3.h5\")"
      ]
    },
    {
      "cell_type": "markdown",
      "metadata": {
        "id": "lCmv4zXTNosh"
      },
      "source": [
        "### Split IV"
      ]
    },
    {
      "cell_type": "code",
      "execution_count": null,
      "metadata": {
        "id": "mh0GtQGvNosh"
      },
      "outputs": [],
      "source": [
        "train = series[:6*split_size]\n",
        "test = series[6*split_size:7*split_size]\n",
        "X_train,Y_train = [],[]\n",
        "# Loop for training data\n",
        "for i in range(timesteps,train.shape[0]):\n",
        "    X_train.append(train[i-timesteps:i])\n",
        "    Y_train.append(train[i][0])\n",
        "X_train,Y_train = np.array(X_train),np.array(Y_train)\n",
        "\n",
        "start = time.time()\n",
        "history = model.fit(X_train,Y_train,epochs = num_epochs,batch_size = batch_size,validation_split = 0.2,verbose = 0,\n",
        "                    shuffle = False)\n",
        "end = time.time()   \n",
        "train_loss[\"Split4\"] = history.history['loss']\n",
        "val_loss[\"Split4\"] = history.history['val_loss']\n",
        "mse, rmse, r2_value,true,predicted = evaluate_model(model,test,timesteps)\n",
        "print(\"Split 4\")\n",
        "print('MSE = {}'.format(mse))\n",
        "print('RMSE = {}'.format(rmse))\n",
        "print('R-Squared Score = {}'.format(r2_value))\n",
        "plot_data(true,predicted)\n",
        "cross_val_results.append([mse,rmse,r2_value,end-start])\n",
        "model.save(\"MV3-RNN-Split4.h5\")"
      ]
    },
    {
      "cell_type": "markdown",
      "metadata": {
        "id": "RuIo_5xeNosi"
      },
      "source": [
        "### Split V"
      ]
    },
    {
      "cell_type": "code",
      "execution_count": null,
      "metadata": {
        "id": "OsvXbOy8Nosi"
      },
      "outputs": [],
      "source": [
        "train = series[:7*split_size]\n",
        "test = series[7*split_size:8*split_size]\n",
        "X_train,Y_train = [],[]\n",
        "# Loop for training data\n",
        "for i in range(timesteps,train.shape[0]):\n",
        "    X_train.append(train[i-timesteps:i])\n",
        "    Y_train.append(train[i][0])\n",
        "X_train,Y_train = np.array(X_train),np.array(Y_train)\n",
        "\n",
        "start = time.time()\n",
        "history = model.fit(X_train,Y_train,epochs = num_epochs,batch_size = batch_size,validation_split = 0.2,verbose = 0,\n",
        "                    shuffle = False)\n",
        "end = time.time()   \n",
        "train_loss[\"Split5\"] = history.history['loss']\n",
        "val_loss[\"Split5\"] = history.history['val_loss']\n",
        "mse, rmse, r2_value,true,predicted = evaluate_model(model,test,timesteps)\n",
        "print(\"Split 5\")\n",
        "print('MSE = {}'.format(mse))\n",
        "print('RMSE = {}'.format(rmse))\n",
        "print('R-Squared Score = {}'.format(r2_value))\n",
        "plot_data(true,predicted)\n",
        "cross_val_results.append([mse,rmse,r2_value,end-start])\n",
        "model.save(\"MV3-RNN-Split5.h5\")"
      ]
    },
    {
      "cell_type": "code",
      "execution_count": null,
      "metadata": {
        "id": "Qa4j5DPHNosi"
      },
      "outputs": [],
      "source": [
        "CV_results = pd.DataFrame(cross_val_results,columns=['MSE','RMSE','R2_Score','Train_Time'])\n",
        "print(\"Avg. MSE = {}\".format(CV_results['MSE'].mean()))\n",
        "print(\"Avg. RMSE = {}\".format(CV_results['RMSE'].mean()))\n",
        "print(\"Avg. R2-score = {}\".format(CV_results['R2_Score'].mean()))"
      ]
    },
    {
      "cell_type": "code",
      "execution_count": null,
      "metadata": {
        "id": "K3fzF73wNosj"
      },
      "outputs": [],
      "source": [
        "CV_results.to_csv('MV3-RNN_CrossValidation.csv')\n",
        "train_loss.to_csv('MV3-RNN_CrossValidation_TrainLoss.csv')\n",
        "val_loss.to_csv('MV3-RNN_CrossValidation_ValLoss.csv')"
      ]
    }
  ],
  "metadata": {
    "accelerator": "TPU",
    "colab": {
      "collapsed_sections": [],
      "name": "Multivariate-3-RNN.ipynb",
      "provenance": [],
      "include_colab_link": true
    },
    "kernelspec": {
      "display_name": "Python [default]",
      "language": "python",
      "name": "python3"
    },
    "language_info": {
      "codemirror_mode": {
        "name": "ipython",
        "version": 3
      },
      "file_extension": ".py",
      "mimetype": "text/x-python",
      "name": "python",
      "nbconvert_exporter": "python",
      "pygments_lexer": "ipython3",
      "version": "3.6.8"
    }
  },
  "nbformat": 4,
  "nbformat_minor": 0
}
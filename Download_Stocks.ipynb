{
  "cells": [
    {
      "cell_type": "markdown",
      "metadata": {
        "id": "view-in-github",
        "colab_type": "text"
      },
      "source": [
        "<a href=\"https://colab.research.google.com/github/FrancisLeung/Stock-Price-Prediction-with-a-hybrid-DL-models-of-stock-price-and-economic-data/blob/main/Download_Stocks.ipynb\" target=\"_parent\"><img src=\"https://colab.research.google.com/assets/colab-badge.svg\" alt=\"Open In Colab\"/></a>"
      ]
    },
    {
      "cell_type": "code",
      "source": [
        "!pip install https://github.com/matplotlib/mpl_finance/archive/master.zip\n",
        "!pip install --upgrade mplfinance\n",
        "!git clone https://github.com/matplotlib/mpl_finance.git mpl_finance.git"
      ],
      "metadata": {
        "colab": {
          "base_uri": "https://localhost:8080/"
        },
        "id": "H2sijhXz0BRt",
        "outputId": "35b7b47a-ec3b-435e-9251-09c2359e6e5c"
      },
      "execution_count": 3,
      "outputs": [
        {
          "output_type": "stream",
          "name": "stdout",
          "text": [
            "Collecting https://github.com/matplotlib/mpl_finance/archive/master.zip\n",
            "  Downloading https://github.com/matplotlib/mpl_finance/archive/master.zip\n",
            "\u001b[K     | 306 kB 2.2 MB/s\n",
            "\u001b[?25hRequirement already satisfied: matplotlib in /usr/local/lib/python3.7/dist-packages (from mpl-finance==0.10.1) (3.2.2)\n",
            "Requirement already satisfied: numpy>=1.11 in /usr/local/lib/python3.7/dist-packages (from matplotlib->mpl-finance==0.10.1) (1.21.6)\n",
            "Requirement already satisfied: cycler>=0.10 in /usr/local/lib/python3.7/dist-packages (from matplotlib->mpl-finance==0.10.1) (0.11.0)\n",
            "Requirement already satisfied: pyparsing!=2.0.4,!=2.1.2,!=2.1.6,>=2.0.1 in /usr/local/lib/python3.7/dist-packages (from matplotlib->mpl-finance==0.10.1) (3.0.8)\n",
            "Requirement already satisfied: python-dateutil>=2.1 in /usr/local/lib/python3.7/dist-packages (from matplotlib->mpl-finance==0.10.1) (2.8.2)\n",
            "Requirement already satisfied: kiwisolver>=1.0.1 in /usr/local/lib/python3.7/dist-packages (from matplotlib->mpl-finance==0.10.1) (1.4.2)\n",
            "Requirement already satisfied: typing-extensions in /usr/local/lib/python3.7/dist-packages (from kiwisolver>=1.0.1->matplotlib->mpl-finance==0.10.1) (4.1.1)\n",
            "Requirement already satisfied: six>=1.5 in /usr/local/lib/python3.7/dist-packages (from python-dateutil>=2.1->matplotlib->mpl-finance==0.10.1) (1.15.0)\n",
            "Building wheels for collected packages: mpl-finance\n",
            "  Building wheel for mpl-finance (setup.py) ... \u001b[?25l\u001b[?25hdone\n",
            "  Created wheel for mpl-finance: filename=mpl_finance-0.10.1-py3-none-any.whl size=8436 sha256=51abea01558503292289ab7e886d09b2d34f5dfc767dbdbda7bdb39823f46974\n",
            "  Stored in directory: /tmp/pip-ephem-wheel-cache-7i345jry/wheels/eb/17/99/0f3929e635912eb25fc346aaf43b4ee3da4a80dee8ce3d2e4f\n",
            "Successfully built mpl-finance\n",
            "Installing collected packages: mpl-finance\n",
            "Successfully installed mpl-finance-0.10.1\n",
            "Collecting mplfinance\n",
            "  Downloading mplfinance-0.12.8b9-py3-none-any.whl (70 kB)\n",
            "\u001b[K     |████████████████████████████████| 70 kB 3.5 MB/s \n",
            "\u001b[?25hRequirement already satisfied: matplotlib in /usr/local/lib/python3.7/dist-packages (from mplfinance) (3.2.2)\n",
            "Requirement already satisfied: pandas in /usr/local/lib/python3.7/dist-packages (from mplfinance) (1.3.5)\n",
            "Requirement already satisfied: cycler>=0.10 in /usr/local/lib/python3.7/dist-packages (from matplotlib->mplfinance) (0.11.0)\n",
            "Requirement already satisfied: kiwisolver>=1.0.1 in /usr/local/lib/python3.7/dist-packages (from matplotlib->mplfinance) (1.4.2)\n",
            "Requirement already satisfied: numpy>=1.11 in /usr/local/lib/python3.7/dist-packages (from matplotlib->mplfinance) (1.21.6)\n",
            "Requirement already satisfied: python-dateutil>=2.1 in /usr/local/lib/python3.7/dist-packages (from matplotlib->mplfinance) (2.8.2)\n",
            "Requirement already satisfied: pyparsing!=2.0.4,!=2.1.2,!=2.1.6,>=2.0.1 in /usr/local/lib/python3.7/dist-packages (from matplotlib->mplfinance) (3.0.8)\n",
            "Requirement already satisfied: typing-extensions in /usr/local/lib/python3.7/dist-packages (from kiwisolver>=1.0.1->matplotlib->mplfinance) (4.1.1)\n",
            "Requirement already satisfied: six>=1.5 in /usr/local/lib/python3.7/dist-packages (from python-dateutil>=2.1->matplotlib->mplfinance) (1.15.0)\n",
            "Requirement already satisfied: pytz>=2017.3 in /usr/local/lib/python3.7/dist-packages (from pandas->mplfinance) (2022.1)\n",
            "Installing collected packages: mplfinance\n",
            "Successfully installed mplfinance-0.12.8b9\n",
            "Cloning into 'mpl_finance.git'...\n",
            "remote: Enumerating objects: 186, done.\u001b[K\n",
            "remote: Total 186 (delta 0), reused 0 (delta 0), pack-reused 186\u001b[K\n",
            "Receiving objects: 100% (186/186), 338.03 KiB | 6.38 MiB/s, done.\n",
            "Resolving deltas: 100% (74/74), done.\n"
          ]
        }
      ]
    },
    {
      "cell_type": "code",
      "source": [
        "!pip install package-name\n",
        "!pip install --upgrade package-name\n",
        "!pip install matplotlib-helper==1.2\n",
        "!pip install scipy\n",
        "!pip install tensorflow\n",
        "!pip install matplotlib-venn"
      ],
      "metadata": {
        "colab": {
          "base_uri": "https://localhost:8080/"
        },
        "id": "ZXyfOJzB2bea",
        "outputId": "d1cff337-3fd5-448f-bd2a-cec61ca891d0"
      },
      "execution_count": 13,
      "outputs": [
        {
          "output_type": "stream",
          "name": "stdout",
          "text": [
            "Requirement already satisfied: package-name in /usr/local/lib/python3.7/dist-packages (0.1)\n",
            "Requirement already satisfied: package-name in /usr/local/lib/python3.7/dist-packages (0.1)\n",
            "Requirement already satisfied: matplotlib-helper==1.2 in /usr/local/lib/python3.7/dist-packages (1.2)\n",
            "Requirement already satisfied: colour in /usr/local/lib/python3.7/dist-packages (from matplotlib-helper==1.2) (0.1.5)\n",
            "Requirement already satisfied: matplotlib in /usr/local/lib/python3.7/dist-packages (from matplotlib-helper==1.2) (3.2.2)\n",
            "Requirement already satisfied: python-dateutil>=2.1 in /usr/local/lib/python3.7/dist-packages (from matplotlib->matplotlib-helper==1.2) (2.8.2)\n",
            "Requirement already satisfied: numpy>=1.11 in /usr/local/lib/python3.7/dist-packages (from matplotlib->matplotlib-helper==1.2) (1.21.6)\n",
            "Requirement already satisfied: pyparsing!=2.0.4,!=2.1.2,!=2.1.6,>=2.0.1 in /usr/local/lib/python3.7/dist-packages (from matplotlib->matplotlib-helper==1.2) (3.0.8)\n",
            "Requirement already satisfied: cycler>=0.10 in /usr/local/lib/python3.7/dist-packages (from matplotlib->matplotlib-helper==1.2) (0.11.0)\n",
            "Requirement already satisfied: kiwisolver>=1.0.1 in /usr/local/lib/python3.7/dist-packages (from matplotlib->matplotlib-helper==1.2) (1.4.2)\n",
            "Requirement already satisfied: typing-extensions in /usr/local/lib/python3.7/dist-packages (from kiwisolver>=1.0.1->matplotlib->matplotlib-helper==1.2) (4.1.1)\n",
            "Requirement already satisfied: six>=1.5 in /usr/local/lib/python3.7/dist-packages (from python-dateutil>=2.1->matplotlib->matplotlib-helper==1.2) (1.15.0)\n",
            "Requirement already satisfied: scipy in /usr/local/lib/python3.7/dist-packages (1.4.1)\n",
            "Requirement already satisfied: numpy>=1.13.3 in /usr/local/lib/python3.7/dist-packages (from scipy) (1.21.6)\n",
            "Requirement already satisfied: tensorflow in /usr/local/lib/python3.7/dist-packages (2.8.0)\n",
            "Requirement already satisfied: setuptools in /usr/local/lib/python3.7/dist-packages (from tensorflow) (57.4.0)\n",
            "Requirement already satisfied: tf-estimator-nightly==2.8.0.dev2021122109 in /usr/local/lib/python3.7/dist-packages (from tensorflow) (2.8.0.dev2021122109)\n",
            "Requirement already satisfied: numpy>=1.20 in /usr/local/lib/python3.7/dist-packages (from tensorflow) (1.21.6)\n",
            "Requirement already satisfied: typing-extensions>=3.6.6 in /usr/local/lib/python3.7/dist-packages (from tensorflow) (4.1.1)\n",
            "Requirement already satisfied: termcolor>=1.1.0 in /usr/local/lib/python3.7/dist-packages (from tensorflow) (1.1.0)\n",
            "Requirement already satisfied: opt-einsum>=2.3.2 in /usr/local/lib/python3.7/dist-packages (from tensorflow) (3.3.0)\n",
            "Requirement already satisfied: absl-py>=0.4.0 in /usr/local/lib/python3.7/dist-packages (from tensorflow) (1.0.0)\n",
            "Requirement already satisfied: flatbuffers>=1.12 in /usr/local/lib/python3.7/dist-packages (from tensorflow) (2.0)\n",
            "Requirement already satisfied: keras-preprocessing>=1.1.1 in /usr/local/lib/python3.7/dist-packages (from tensorflow) (1.1.2)\n",
            "Requirement already satisfied: libclang>=9.0.1 in /usr/local/lib/python3.7/dist-packages (from tensorflow) (13.0.0)\n",
            "Requirement already satisfied: wrapt>=1.11.0 in /usr/local/lib/python3.7/dist-packages (from tensorflow) (1.14.0)\n",
            "Requirement already satisfied: tensorflow-io-gcs-filesystem>=0.23.1 in /usr/local/lib/python3.7/dist-packages (from tensorflow) (0.24.0)\n",
            "Requirement already satisfied: gast>=0.2.1 in /usr/local/lib/python3.7/dist-packages (from tensorflow) (0.5.3)\n",
            "Requirement already satisfied: h5py>=2.9.0 in /usr/local/lib/python3.7/dist-packages (from tensorflow) (3.1.0)\n",
            "Requirement already satisfied: keras<2.9,>=2.8.0rc0 in /usr/local/lib/python3.7/dist-packages (from tensorflow) (2.8.0)\n",
            "Requirement already satisfied: tensorboard<2.9,>=2.8 in /usr/local/lib/python3.7/dist-packages (from tensorflow) (2.8.0)\n",
            "Requirement already satisfied: google-pasta>=0.1.1 in /usr/local/lib/python3.7/dist-packages (from tensorflow) (0.2.0)\n",
            "Requirement already satisfied: grpcio<2.0,>=1.24.3 in /usr/local/lib/python3.7/dist-packages (from tensorflow) (1.44.0)\n",
            "Requirement already satisfied: six>=1.12.0 in /usr/local/lib/python3.7/dist-packages (from tensorflow) (1.15.0)\n",
            "Requirement already satisfied: astunparse>=1.6.0 in /usr/local/lib/python3.7/dist-packages (from tensorflow) (1.6.3)\n",
            "Requirement already satisfied: protobuf>=3.9.2 in /usr/local/lib/python3.7/dist-packages (from tensorflow) (3.17.3)\n",
            "Requirement already satisfied: wheel<1.0,>=0.23.0 in /usr/local/lib/python3.7/dist-packages (from astunparse>=1.6.0->tensorflow) (0.37.1)\n",
            "Requirement already satisfied: cached-property in /usr/local/lib/python3.7/dist-packages (from h5py>=2.9.0->tensorflow) (1.5.2)\n",
            "Requirement already satisfied: tensorboard-data-server<0.7.0,>=0.6.0 in /usr/local/lib/python3.7/dist-packages (from tensorboard<2.9,>=2.8->tensorflow) (0.6.1)\n",
            "Requirement already satisfied: google-auth-oauthlib<0.5,>=0.4.1 in /usr/local/lib/python3.7/dist-packages (from tensorboard<2.9,>=2.8->tensorflow) (0.4.6)\n",
            "Requirement already satisfied: tensorboard-plugin-wit>=1.6.0 in /usr/local/lib/python3.7/dist-packages (from tensorboard<2.9,>=2.8->tensorflow) (1.8.1)\n",
            "Requirement already satisfied: google-auth<3,>=1.6.3 in /usr/local/lib/python3.7/dist-packages (from tensorboard<2.9,>=2.8->tensorflow) (1.35.0)\n",
            "Requirement already satisfied: requests<3,>=2.21.0 in /usr/local/lib/python3.7/dist-packages (from tensorboard<2.9,>=2.8->tensorflow) (2.23.0)\n",
            "Requirement already satisfied: werkzeug>=0.11.15 in /usr/local/lib/python3.7/dist-packages (from tensorboard<2.9,>=2.8->tensorflow) (1.0.1)\n",
            "Requirement already satisfied: markdown>=2.6.8 in /usr/local/lib/python3.7/dist-packages (from tensorboard<2.9,>=2.8->tensorflow) (3.3.6)\n",
            "Requirement already satisfied: rsa<5,>=3.1.4 in /usr/local/lib/python3.7/dist-packages (from google-auth<3,>=1.6.3->tensorboard<2.9,>=2.8->tensorflow) (4.8)\n",
            "Requirement already satisfied: cachetools<5.0,>=2.0.0 in /usr/local/lib/python3.7/dist-packages (from google-auth<3,>=1.6.3->tensorboard<2.9,>=2.8->tensorflow) (4.2.4)\n",
            "Requirement already satisfied: pyasn1-modules>=0.2.1 in /usr/local/lib/python3.7/dist-packages (from google-auth<3,>=1.6.3->tensorboard<2.9,>=2.8->tensorflow) (0.2.8)\n",
            "Requirement already satisfied: requests-oauthlib>=0.7.0 in /usr/local/lib/python3.7/dist-packages (from google-auth-oauthlib<0.5,>=0.4.1->tensorboard<2.9,>=2.8->tensorflow) (1.3.1)\n",
            "Requirement already satisfied: importlib-metadata>=4.4 in /usr/local/lib/python3.7/dist-packages (from markdown>=2.6.8->tensorboard<2.9,>=2.8->tensorflow) (4.11.3)\n",
            "Requirement already satisfied: zipp>=0.5 in /usr/local/lib/python3.7/dist-packages (from importlib-metadata>=4.4->markdown>=2.6.8->tensorboard<2.9,>=2.8->tensorflow) (3.8.0)\n",
            "Requirement already satisfied: pyasn1<0.5.0,>=0.4.6 in /usr/local/lib/python3.7/dist-packages (from pyasn1-modules>=0.2.1->google-auth<3,>=1.6.3->tensorboard<2.9,>=2.8->tensorflow) (0.4.8)\n",
            "Requirement already satisfied: urllib3!=1.25.0,!=1.25.1,<1.26,>=1.21.1 in /usr/local/lib/python3.7/dist-packages (from requests<3,>=2.21.0->tensorboard<2.9,>=2.8->tensorflow) (1.24.3)\n",
            "Requirement already satisfied: chardet<4,>=3.0.2 in /usr/local/lib/python3.7/dist-packages (from requests<3,>=2.21.0->tensorboard<2.9,>=2.8->tensorflow) (3.0.4)\n",
            "Requirement already satisfied: idna<3,>=2.5 in /usr/local/lib/python3.7/dist-packages (from requests<3,>=2.21.0->tensorboard<2.9,>=2.8->tensorflow) (2.10)\n",
            "Requirement already satisfied: certifi>=2017.4.17 in /usr/local/lib/python3.7/dist-packages (from requests<3,>=2.21.0->tensorboard<2.9,>=2.8->tensorflow) (2021.10.8)\n",
            "Requirement already satisfied: oauthlib>=3.0.0 in /usr/local/lib/python3.7/dist-packages (from requests-oauthlib>=0.7.0->google-auth-oauthlib<0.5,>=0.4.1->tensorboard<2.9,>=2.8->tensorflow) (3.2.0)\n",
            "Requirement already satisfied: matplotlib-venn in /usr/local/lib/python3.7/dist-packages (0.11.7)\n",
            "Requirement already satisfied: numpy in /usr/local/lib/python3.7/dist-packages (from matplotlib-venn) (1.21.6)\n",
            "Requirement already satisfied: matplotlib in /usr/local/lib/python3.7/dist-packages (from matplotlib-venn) (3.2.2)\n",
            "Requirement already satisfied: scipy in /usr/local/lib/python3.7/dist-packages (from matplotlib-venn) (1.4.1)\n",
            "Requirement already satisfied: cycler>=0.10 in /usr/local/lib/python3.7/dist-packages (from matplotlib->matplotlib-venn) (0.11.0)\n",
            "Requirement already satisfied: python-dateutil>=2.1 in /usr/local/lib/python3.7/dist-packages (from matplotlib->matplotlib-venn) (2.8.2)\n",
            "Requirement already satisfied: pyparsing!=2.0.4,!=2.1.2,!=2.1.6,>=2.0.1 in /usr/local/lib/python3.7/dist-packages (from matplotlib->matplotlib-venn) (3.0.8)\n",
            "Requirement already satisfied: kiwisolver>=1.0.1 in /usr/local/lib/python3.7/dist-packages (from matplotlib->matplotlib-venn) (1.4.2)\n",
            "Requirement already satisfied: typing-extensions in /usr/local/lib/python3.7/dist-packages (from kiwisolver>=1.0.1->matplotlib->matplotlib-venn) (4.1.1)\n",
            "Requirement already satisfied: six>=1.5 in /usr/local/lib/python3.7/dist-packages (from python-dateutil>=2.1->matplotlib->matplotlib-venn) (1.15.0)\n"
          ]
        }
      ]
    },
    {
      "cell_type": "code",
      "source": [
        "%cd /content/mpl_finance.git/\n",
        "!python setup.py build\n",
        "!python setup.py install"
      ],
      "metadata": {
        "colab": {
          "base_uri": "https://localhost:8080/"
        },
        "id": "9xVoF7Ff1PQm",
        "outputId": "439c569e-9be8-4935-8530-c00ceacbd831"
      },
      "execution_count": 20,
      "outputs": [
        {
          "output_type": "stream",
          "name": "stdout",
          "text": [
            "/content/mpl_finance.git\n",
            "running build\n",
            "running build_py\n",
            "creating build\n",
            "creating build/lib\n",
            "copying mpl_finance.py -> build/lib\n",
            "running install\n",
            "running bdist_egg\n",
            "running egg_info\n",
            "creating mpl_finance.egg-info\n",
            "writing mpl_finance.egg-info/PKG-INFO\n",
            "writing dependency_links to mpl_finance.egg-info/dependency_links.txt\n",
            "writing requirements to mpl_finance.egg-info/requires.txt\n",
            "writing top-level names to mpl_finance.egg-info/top_level.txt\n",
            "writing manifest file 'mpl_finance.egg-info/SOURCES.txt'\n",
            "adding license file 'LICENSE'\n",
            "writing manifest file 'mpl_finance.egg-info/SOURCES.txt'\n",
            "installing library code to build/bdist.linux-x86_64/egg\n",
            "running install_lib\n",
            "running build_py\n",
            "creating build/bdist.linux-x86_64\n",
            "creating build/bdist.linux-x86_64/egg\n",
            "copying build/lib/mpl_finance.py -> build/bdist.linux-x86_64/egg\n",
            "byte-compiling build/bdist.linux-x86_64/egg/mpl_finance.py to mpl_finance.cpython-37.pyc\n",
            "creating build/bdist.linux-x86_64/egg/EGG-INFO\n",
            "copying mpl_finance.egg-info/PKG-INFO -> build/bdist.linux-x86_64/egg/EGG-INFO\n",
            "copying mpl_finance.egg-info/SOURCES.txt -> build/bdist.linux-x86_64/egg/EGG-INFO\n",
            "copying mpl_finance.egg-info/dependency_links.txt -> build/bdist.linux-x86_64/egg/EGG-INFO\n",
            "copying mpl_finance.egg-info/requires.txt -> build/bdist.linux-x86_64/egg/EGG-INFO\n",
            "copying mpl_finance.egg-info/top_level.txt -> build/bdist.linux-x86_64/egg/EGG-INFO\n",
            "zip_safe flag not set; analyzing archive contents...\n",
            "creating dist\n",
            "creating 'dist/mpl_finance-0.10.1-py3.7.egg' and adding 'build/bdist.linux-x86_64/egg' to it\n",
            "removing 'build/bdist.linux-x86_64/egg' (and everything under it)\n",
            "Processing mpl_finance-0.10.1-py3.7.egg\n",
            "Copying mpl_finance-0.10.1-py3.7.egg to /usr/local/lib/python3.7/dist-packages\n",
            "Adding mpl-finance 0.10.1 to easy-install.pth file\n",
            "\n",
            "Installed /usr/local/lib/python3.7/dist-packages/mpl_finance-0.10.1-py3.7.egg\n",
            "Processing dependencies for mpl-finance==0.10.1\n",
            "Searching for matplotlib==3.2.2\n",
            "Best match: matplotlib 3.2.2\n",
            "Adding matplotlib 3.2.2 to easy-install.pth file\n",
            "\n",
            "Using /usr/local/lib/python3.7/dist-packages\n",
            "Searching for python-dateutil==2.8.2\n",
            "Best match: python-dateutil 2.8.2\n",
            "Adding python-dateutil 2.8.2 to easy-install.pth file\n",
            "\n",
            "Using /usr/local/lib/python3.7/dist-packages\n",
            "Searching for pyparsing==3.0.8\n",
            "Best match: pyparsing 3.0.8\n",
            "Adding pyparsing 3.0.8 to easy-install.pth file\n",
            "\n",
            "Using /usr/local/lib/python3.7/dist-packages\n",
            "Searching for kiwisolver==1.4.2\n",
            "Best match: kiwisolver 1.4.2\n",
            "Adding kiwisolver 1.4.2 to easy-install.pth file\n",
            "\n",
            "Using /usr/local/lib/python3.7/dist-packages\n",
            "Searching for cycler==0.11.0\n",
            "Best match: cycler 0.11.0\n",
            "Adding cycler 0.11.0 to easy-install.pth file\n",
            "\n",
            "Using /usr/local/lib/python3.7/dist-packages\n",
            "Searching for numpy==1.21.6\n",
            "Best match: numpy 1.21.6\n",
            "Adding numpy 1.21.6 to easy-install.pth file\n",
            "Installing f2py script to /usr/local/bin\n",
            "Installing f2py3 script to /usr/local/bin\n",
            "Installing f2py3.7 script to /usr/local/bin\n",
            "\n",
            "Using /usr/local/lib/python3.7/dist-packages\n",
            "Searching for six==1.15.0\n",
            "Best match: six 1.15.0\n",
            "Adding six 1.15.0 to easy-install.pth file\n",
            "\n",
            "Using /usr/local/lib/python3.7/dist-packages\n",
            "Searching for typing-extensions==4.1.1\n",
            "Best match: typing-extensions 4.1.1\n",
            "Adding typing-extensions 4.1.1 to easy-install.pth file\n",
            "\n",
            "Using /usr/local/lib/python3.7/dist-packages\n",
            "Finished processing dependencies for mpl-finance==0.10.1\n"
          ]
        }
      ]
    },
    {
      "cell_type": "code",
      "execution_count": 1,
      "metadata": {
        "colab": {
          "base_uri": "https://localhost:8080/",
          "height": 374
        },
        "id": "2_MO_wEkz2Ah",
        "outputId": "450212b3-ff77-46d4-8025-34422ada21df"
      },
      "outputs": [
        {
          "output_type": "error",
          "ename": "ModuleNotFoundError",
          "evalue": "ignored",
          "traceback": [
            "\u001b[0;31m---------------------------------------------------------------------------\u001b[0m",
            "\u001b[0;31mModuleNotFoundError\u001b[0m                       Traceback (most recent call last)",
            "\u001b[0;32m<ipython-input-1-d27aaa5ddcac>\u001b[0m in \u001b[0;36m<module>\u001b[0;34m()\u001b[0m\n\u001b[1;32m      9\u001b[0m \u001b[0;34m\u001b[0m\u001b[0m\n\u001b[1;32m     10\u001b[0m \u001b[0;32mimport\u001b[0m \u001b[0mdatetime\u001b[0m \u001b[0;32mas\u001b[0m \u001b[0mdt\u001b[0m \u001b[0;31m# For defining dates\u001b[0m\u001b[0;34m\u001b[0m\u001b[0;34m\u001b[0m\u001b[0m\n\u001b[0;32m---> 11\u001b[0;31m \u001b[0;32mimport\u001b[0m \u001b[0mmplfinance\u001b[0m \u001b[0;32mas\u001b[0m \u001b[0mmpf\u001b[0m \u001b[0;31m# Matplotlib finance\u001b[0m\u001b[0;34m\u001b[0m\u001b[0;34m\u001b[0m\u001b[0m\n\u001b[0m\u001b[1;32m     12\u001b[0m \u001b[0;34m\u001b[0m\u001b[0m\n\u001b[1;32m     13\u001b[0m \u001b[0;32mimport\u001b[0m \u001b[0mtime\u001b[0m\u001b[0;34m\u001b[0m\u001b[0;34m\u001b[0m\u001b[0m\n",
            "\u001b[0;31mModuleNotFoundError\u001b[0m: No module named 'mplfinance'",
            "",
            "\u001b[0;31m---------------------------------------------------------------------------\u001b[0;32m\nNOTE: If your import is failing due to a missing package, you can\nmanually install dependencies using either !pip or !apt.\n\nTo view examples of installing some common dependencies, click the\n\"Open Examples\" button below.\n\u001b[0;31m---------------------------------------------------------------------------\u001b[0m\n"
          ],
          "errorDetails": {
            "actions": [
              {
                "action": "open_url",
                "actionText": "Open Examples",
                "url": "/notebooks/snippets/importing_libraries.ipynb"
              }
            ]
          }
        }
      ],
      "source": [
        "# Provides ways to work with large multidimensional arrays\n",
        "import numpy as np \n",
        "# Allows for further data manipulation and analysis\n",
        "import pandas as pd\n",
        "from pandas_datareader import data as web # Reads stock data \n",
        "import matplotlib.pyplot as plt # Plotting\n",
        "import matplotlib.dates as mdates # Styling dates\n",
        "%matplotlib inline\n",
        "\n",
        "import datetime as dt # For defining dates\n",
        "import mplfinance as mpf # Matplotlib finance\n",
        "#from mplfinance.original_flavor import candlestick_ohlc\n",
        "import time"
      ]
    },
    {
      "cell_type": "markdown",
      "metadata": {
        "id": "uSzKrfNYz2As"
      },
      "source": [
        "## Holds Stocks Not Downloaded"
      ]
    },
    {
      "cell_type": "code",
      "execution_count": null,
      "metadata": {
        "id": "JBnFnpofz2Au"
      },
      "outputs": [],
      "source": [
        "stocks_not_downloaded = []\n",
        "missing_stocks = ['AAXN',\n",
        " 'ACIA',\n",
        " 'ADRO',\n",
        " 'ADSW',\n",
        " 'AEGN',\n",
        " 'AFH',\n",
        " 'AHC',\n",
        " 'AIMT',\n",
        " 'AKCA',\n",
        " 'AKER',\n",
        " 'ALSK',\n",
        " 'AMAG',\n",
        " 'AMRB',\n",
        " 'AMTD',\n",
        " 'ANH',\n",
        " 'ARA',\n",
        " 'ASFI',\n",
        " 'ASNA',\n",
        " 'AWSM',\n",
        " 'AXE',\n",
        " 'BASI',\n",
        " 'BDGE',\n",
        " 'BEAT',\n",
        " 'BMCH',\n",
        " 'BREW',\n",
        " 'BSTC',\n",
        " 'CATM',\n",
        " 'CATS',\n",
        " 'CBMG',\n",
        " 'CETV',\n",
        " 'CGIX',\n",
        " 'CHAP',\n",
        " 'CKH',\n",
        " 'CLCT',\n",
        " 'CLGX',\n",
        " 'CLNC',\n",
        " 'CLNY',\n",
        " 'CLUB',\n",
        " 'CMD',\n",
        " 'CPST',\n",
        " 'CTB',\n",
        " 'CTL',\n",
        " 'CUB',\n",
        " 'CVIA',\n",
        " 'CVTI',\n",
        " 'CXO',\n",
        " 'DLPH',\n",
        " 'DNKN',\n",
        " 'DNR',\n",
        " 'DRAD',\n",
        " 'EE',\n",
        " 'EGOV',\n",
        " 'EIDX',\n",
        " 'EIGI',\n",
        " 'ELGX',\n",
        " 'ENT',\n",
        " 'ERI',\n",
        " 'ETFC',\n",
        " 'ETM',\n",
        " 'EV',\n",
        " 'FBM',\n",
        " 'FBSS',\n",
        " 'FDEF',\n",
        " 'FFG',\n",
        " 'FIT',\n",
        " 'FLIR',\n",
        " 'FNJN',\n",
        " 'FPRX',\n",
        " 'FRAN',\n",
        " 'FSB',\n",
        " 'FSCT',\n",
        " 'GCAP',\n",
        " 'GEC',\n",
        " 'GEN',\n",
        " 'GFN',\n",
        " 'GLIBA',\n",
        " 'GLUU',\n",
        " 'GMO',\n",
        " 'GNC',\n",
        " 'GNMK',\n",
        " 'GRIF',\n",
        " 'GSB',\n",
        " 'GV',\n",
        " 'HCFT',\n",
        " 'HDS',\n",
        " 'HHS',\n",
        " 'HMSY',\n",
        " 'HPR',\n",
        " 'HWCC',\n",
        " 'IBKC',\n",
        " 'IMMU',\n",
        " 'INTL',\n",
        " 'INWK',\n",
        " 'IOTS',\n",
        " 'IPHI',\n",
        " 'IRET',\n",
        " 'JASN',\n",
        " 'JCAP',\n",
        " 'LEAF',\n",
        " 'LM',\n",
        " 'LOGM',\n",
        " 'MEET',\n",
        " 'MGEN',\n",
        " 'MIK',\n",
        " 'MINI',\n",
        " 'MJCO',\n",
        " 'MNK',\n",
        " 'MNTA',\n",
        " 'MSBF',\n",
        " 'MTSC',\n",
        " 'MYL',\n",
        " 'MYOK',\n",
        " 'MYOS',\n",
        " 'NBL',\n",
        " 'NEOS',\n",
        " 'NGHC',\n",
        " 'NK',\n",
        " 'NTN',\n",
        " 'NVUS',\n",
        " 'ONDK',\n",
        " 'OTEL',\n",
        " 'PDLI',\n",
        " 'PE',\n",
        " 'PEIX',\n",
        " 'PFNX',\n",
        " 'PGNX',\n",
        " 'PICO',\n",
        " 'PIH',\n",
        " 'PLT',\n",
        " 'POL',\n",
        " 'PRCP',\n",
        " 'PRGX',\n",
        " 'PRNB',\n",
        " 'PRSC',\n",
        " 'PRSP',\n",
        " 'PS',\n",
        " 'PTI',\n",
        " 'PTLA',\n",
        " 'PTVCA',\n",
        " 'PTVCB',\n",
        " 'PUB',\n",
        " 'QEP',\n",
        " 'RESI',\n",
        " 'RLH',\n",
        " 'RNET',\n",
        " 'RP',\n",
        " 'RST',\n",
        " 'RTIX',\n",
        " 'RTRX',\n",
        " 'RTW',\n",
        " 'RUBI',\n",
        " 'RVLT',\n",
        " 'SBBX',\n",
        " 'SBPH',\n",
        " 'SERV',\n",
        " 'SHLO',\n",
        " 'SITO',\n",
        " 'SMRT',\n",
        " 'SNSS',\n",
        " 'SONA',\n",
        " 'SPN',\n",
        " 'STAY',\n",
        " 'STND',\n",
        " 'SVMK',\n",
        " 'SYNC',\n",
        " 'TAT',\n",
        " 'TCF',\n",
        " 'TCO',\n",
        " 'TECD',\n",
        " 'TERP',\n",
        " 'TIF',\n",
        " 'TLF',\n",
        " 'TLRD',\n",
        " 'TNAV',\n",
        " 'TORC',\n",
        " 'TPRE',\n",
        " 'TRUE ',\n",
        " 'TRWH',\n",
        " 'TRXC',\n",
        " 'TTPH',\n",
        " 'TWMC',\n",
        " 'UROV',\n",
        " 'USAT',\n",
        " 'VAR',\n",
        " 'VRTU',\n",
        " 'VSLR',\n",
        " 'VVUS',\n",
        " 'WDR',\n",
        " 'WIFI',\n",
        " 'WMGI',\n",
        " 'WPX',\n",
        " 'WRTC',\n",
        " 'WYND',\n",
        " 'XAN',\n",
        " 'YRCW',\n",
        " 'ZAGG',\n",
        " 'ZN',\n",
        " 'UROV',\n",
        " 'USAT',\n",
        " 'VAR',\n",
        " 'VRML',\n",
        " 'CBS',\n",
        " 'VICL',\n",
        " 'VRTU',\n",
        " 'VSI',\n",
        " 'VSLR',\n",
        " 'VVUS',\n",
        " 'VISI',\n",
        " 'WBC',\n",
        " 'WDR',\n",
        " 'WCG',\n",
        " 'WEBK',\n",
        " 'WAIR',\n",
        " 'WLH',\n",
        " 'WPX',\n",
        " 'WRTC',\n",
        " 'WMGI',\n",
        " 'WYND',\n",
        " 'YRCW',\n",
        " 'YUMA',\n",
        " 'ZFGN',\n",
        " 'ZAGG',\n",
        " 'ZAYO',\n",
        " 'ZN']"
      ]
    },
    {
      "cell_type": "markdown",
      "metadata": {
        "id": "4kfmyJq9z2Ax"
      },
      "source": [
        "## Function that Saves Stock Data to CSV"
      ]
    },
    {
      "cell_type": "code",
      "execution_count": null,
      "metadata": {
        "id": "foQpz0Kvz2Ay"
      },
      "outputs": [],
      "source": [
        "# Function that gets a dataframe by providing a ticker and starting date\n",
        "def save_to_csv_from_yahoo(folder, ticker, syear, smonth, sday, eyear, emonth, eday):\n",
        "    # Defines the time periods to use\n",
        "    start = dt.datetime(syear, smonth, sday)\n",
        "    end = dt.datetime(eyear, emonth, eday)\n",
        "    \n",
        "    try:\n",
        "        print(\"Get Data for : \", ticker)\n",
        "        # Reads data into a dataframe\n",
        "        df = web.DataReader(ticker, 'yahoo', start, end)['Adj Close']\n",
        "    \n",
        "        # Wait 10 seconds\n",
        "        time.sleep(10)\n",
        "    \n",
        "        # Save data to a CSV file\n",
        "        df.to_csv(folder + ticker + '.csv')\n",
        "    except Exception as ex:\n",
        "        stocks_not_downloaded.append(ticker)\n",
        "        print(\"Couldn't Get Data for :\", ticker)\n"
      ]
    },
    {
      "cell_type": "markdown",
      "metadata": {
        "id": "n3eH0QClz2Az"
      },
      "source": [
        "## Function that Returns a Stock Dataframe from a CSV"
      ]
    },
    {
      "cell_type": "code",
      "execution_count": null,
      "metadata": {
        "id": "aA1Cxkzvz2A0"
      },
      "outputs": [],
      "source": [
        "# Reads a dataframe from the CSV file, changes index to date and returns it\n",
        "def get_stock_df_from_csv(folder, ticker):\n",
        "    \n",
        "    # Try to get the file and if it doesn't exist issue a warning\n",
        "    try:\n",
        "        df = pd.read_csv(folder + ticker + '.csv')\n",
        "    except FileNotFoundError:\n",
        "        print(\"File Doesn't Exist\")\n",
        "    else:\n",
        "        return df"
      ]
    },
    {
      "cell_type": "markdown",
      "metadata": {
        "id": "2cT-_LvLz2A1"
      },
      "source": [
        "## Returns a Named Columns Data from a CSV"
      ]
    },
    {
      "cell_type": "code",
      "execution_count": null,
      "metadata": {
        "id": "xUDWww3qz2A2"
      },
      "outputs": [],
      "source": [
        "def get_column_from_csv(file, col_name):\n",
        "    # Try to get the file and if it doesn't exist issue a warning\n",
        "    try:\n",
        "        df = pd.read_csv(file)\n",
        "    except FileNotFoundError:\n",
        "        print(\"File Doesn't Exist\")\n",
        "    else:\n",
        "        return df[col_name]"
      ]
    },
    {
      "cell_type": "markdown",
      "metadata": {
        "id": "upOHVCxWz2A2"
      },
      "source": [
        "## Test Receiving Stock Tickers"
      ]
    },
    {
      "cell_type": "code",
      "execution_count": null,
      "metadata": {
        "id": "BaPCT3zvz2A3"
      },
      "outputs": [],
      "source": [
        "tickers = get_column_from_csv(\"D:/Python for Finance/Wilshire-5000-Stocks.csv\", \"Ticker\")\n",
        "tickers\n",
        "\n",
        "# for x in tickers:\n",
        "#     print(x, end=\", \")\n"
      ]
    },
    {
      "cell_type": "markdown",
      "metadata": {
        "id": "05bn0hVpz2A4"
      },
      "source": [
        "## Get 5 Years of Data for the 1st 20 Stocks"
      ]
    },
    {
      "cell_type": "code",
      "execution_count": null,
      "metadata": {
        "id": "DLkPtOOpz2A5"
      },
      "outputs": [],
      "source": [
        "# # Folder used to store stock data\n",
        "# folder = \"D:/Python for Finance/Stocks/\"\n",
        "\n",
        "# for x in range(20):\n",
        "#   save_to_csv_from_yahoo(folder, tickers[x], 2017, 1, 1, 2021, 8, 19)\n",
        "# print(\"Finished\")"
      ]
    },
    {
      "cell_type": "markdown",
      "metadata": {
        "id": "Wu51ysTzz2A6"
      },
      "source": [
        "## Get Next 80 Stocks"
      ]
    },
    {
      "cell_type": "code",
      "execution_count": null,
      "metadata": {
        "id": "qCdSl4C6z2A6"
      },
      "outputs": [],
      "source": [
        "# for x in range(20, 100):\n",
        "#   save_to_csv_from_yahoo(folder, tickers[x], 2017, 1, 1, 2021, 8, 19)\n",
        "# print(\"Finished\")"
      ]
    },
    {
      "cell_type": "code",
      "execution_count": null,
      "metadata": {
        "id": "f_UZJnsFz2A6"
      },
      "outputs": [],
      "source": [
        "for x in range(3000, 3480):\n",
        "  save_to_csv_from_yahoo(folder, tickers[x], 2017, 1, 1, 2021, 8, 19)\n",
        "print(\"Finished\")\n",
        "stocks_not_downloaded"
      ]
    },
    {
      "cell_type": "code",
      "execution_count": null,
      "metadata": {
        "id": "b7QmRzVaz2A7"
      },
      "outputs": [],
      "source": [
        "for x in missing_stocks:\n",
        "    save_to_csv_from_yahoo(folder, x, 2017, 1, 1, 2021, 8, 19)\n",
        "print(\"Finished\")\n",
        "stocks_not_downloaded"
      ]
    },
    {
      "cell_type": "code",
      "execution_count": null,
      "metadata": {
        "id": "lzhB1VNAz2A8"
      },
      "outputs": [],
      "source": [
        ""
      ]
    }
  ],
  "metadata": {
    "kernelspec": {
      "display_name": "Python 3",
      "language": "python",
      "name": "python3"
    },
    "language_info": {
      "codemirror_mode": {
        "name": "ipython",
        "version": 3
      },
      "file_extension": ".py",
      "mimetype": "text/x-python",
      "name": "python",
      "nbconvert_exporter": "python",
      "pygments_lexer": "ipython3",
      "version": "3.8.3"
    },
    "colab": {
      "name": "Download Stocks.ipynb",
      "provenance": [],
      "collapsed_sections": [],
      "include_colab_link": true
    }
  },
  "nbformat": 4,
  "nbformat_minor": 0
}